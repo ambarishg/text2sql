{
 "cells": [
  {
   "cell_type": "code",
   "execution_count": 1,
   "metadata": {},
   "outputs": [],
   "source": [
    "import sys\n",
    "sys.path.append(\"..\")"
   ]
  },
  {
   "cell_type": "code",
   "execution_count": 2,
   "metadata": {},
   "outputs": [],
   "source": [
    "from file_load_status_helper.file_load_status_helper import CosmosDBLoadStatusHelper\n",
    "from file_load_status_helper.interface_load_status_helper import ILoadStatusHelper"
   ]
  },
  {
   "cell_type": "code",
   "execution_count": 3,
   "metadata": {},
   "outputs": [],
   "source": [
    "file_load_status:ILoadStatusHelper = CosmosDBLoadStatusHelper()"
   ]
  },
  {
   "cell_type": "code",
   "execution_count": 4,
   "metadata": {},
   "outputs": [],
   "source": [
    "items = file_load_status.get_file_load_status(filename='CHAP06-BIOLOGY-CLASS11.pdf',\n",
    "                                      user_id = \"y12ft5bl30ue\",\n",
    "                                      category=\"NCERT-CLASS11\")"
   ]
  },
  {
   "cell_type": "code",
   "execution_count": 5,
   "metadata": {},
   "outputs": [
    {
     "data": {
      "text/plain": [
       "[{'id': 'a55830f0-1b71-484e-84f2-81505d487b19',\n",
       "  'filename': 'CHAP06-BIOLOGY-CLASS11.pdf',\n",
       "  'processed': True,\n",
       "  'category': 'NCERT-CLASS11',\n",
       "  'user_id': 'y12ft5bl30ue',\n",
       "  '_rid': '025pAIXnNRd6AAAAAAAAAA==',\n",
       "  '_self': 'dbs/025pAA==/colls/025pAIXnNRc=/docs/025pAIXnNRd6AAAAAAAAAA==/',\n",
       "  '_etag': '\"3201bfc7-0000-0300-0000-67b01b240000\"',\n",
       "  '_attachments': 'attachments/',\n",
       "  'status': 'PROCESSED',\n",
       "  '_ts': 1739594532}]"
      ]
     },
     "execution_count": 5,
     "metadata": {},
     "output_type": "execute_result"
    }
   ],
   "source": [
    "items"
   ]
  },
  {
   "cell_type": "code",
   "execution_count": 6,
   "metadata": {},
   "outputs": [],
   "source": [
    "item_to_update = items[0]"
   ]
  },
  {
   "cell_type": "code",
   "execution_count": 7,
   "metadata": {},
   "outputs": [
    {
     "data": {
      "text/plain": [
       "{'id': 'a55830f0-1b71-484e-84f2-81505d487b19',\n",
       " 'filename': 'CHAP06-BIOLOGY-CLASS11.pdf',\n",
       " 'processed': True,\n",
       " 'category': 'NCERT-CLASS11',\n",
       " 'user_id': 'y12ft5bl30ue',\n",
       " '_rid': '025pAIXnNRd6AAAAAAAAAA==',\n",
       " '_self': 'dbs/025pAA==/colls/025pAIXnNRc=/docs/025pAIXnNRd6AAAAAAAAAA==/',\n",
       " '_etag': '\"3201bfc7-0000-0300-0000-67b01b240000\"',\n",
       " '_attachments': 'attachments/',\n",
       " 'status': 'PROCESSED',\n",
       " '_ts': 1739594532}"
      ]
     },
     "execution_count": 7,
     "metadata": {},
     "output_type": "execute_result"
    }
   ],
   "source": [
    "item_to_update"
   ]
  },
  {
   "cell_type": "code",
   "execution_count": 8,
   "metadata": {},
   "outputs": [],
   "source": [
    "item_to_update['status'] = 'PROCESSED'"
   ]
  },
  {
   "cell_type": "code",
   "execution_count": 9,
   "metadata": {},
   "outputs": [
    {
     "name": "stdout",
     "output_type": "stream",
     "text": [
      "Updating item with id {'id': 'a55830f0-1b71-484e-84f2-81505d487b19', 'filename': 'CHAP06-BIOLOGY-CLASS11.pdf', 'processed': True, 'category': 'NCERT-CLASS11', 'user_id': 'y12ft5bl30ue', '_rid': '025pAIXnNRd6AAAAAAAAAA==', '_self': 'dbs/025pAA==/colls/025pAIXnNRc=/docs/025pAIXnNRd6AAAAAAAAAA==/', '_etag': '\"3201bfc7-0000-0300-0000-67b01b240000\"', '_attachments': 'attachments/', 'status': 'PROCESSED', '_ts': 1739594532}\n"
     ]
    }
   ],
   "source": [
    "file_load_status.set_file_load_status(item_to_update)"
   ]
  },
  {
   "cell_type": "code",
   "execution_count": null,
   "metadata": {},
   "outputs": [],
   "source": []
  }
 ],
 "metadata": {
  "kernelspec": {
   "display_name": ".venv",
   "language": "python",
   "name": "python3"
  },
  "language_info": {
   "codemirror_mode": {
    "name": "ipython",
    "version": 3
   },
   "file_extension": ".py",
   "mimetype": "text/x-python",
   "name": "python",
   "nbconvert_exporter": "python",
   "pygments_lexer": "ipython3",
   "version": "3.11.6"
  }
 },
 "nbformat": 4,
 "nbformat_minor": 2
}
