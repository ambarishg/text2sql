{
 "cells": [
  {
   "cell_type": "code",
   "execution_count": 6,
   "metadata": {},
   "outputs": [],
   "source": [
    "import sys\n",
    "sys.path.append('..')\n",
    "from config_notebooks import *\n",
    "from qdrant.qdrant_helper import *\n",
    "from azureopenaimanager.azureopenai_helper import AzureOpenAIManager\n",
    "from azure_blob.azure_blob_helper import AzureBlobHelper"
   ]
  },
  {
   "cell_type": "code",
   "execution_count": 7,
   "metadata": {},
   "outputs": [],
   "source": [
    "search = QdrantHelper(QDRANT_URL,QDRANT_KEY,MODEL_NAME,QDRANT_COLLECTION)"
   ]
  },
  {
   "cell_type": "code",
   "execution_count": 8,
   "metadata": {},
   "outputs": [],
   "source": [
    "query = \"\"\"\n",
    "insecticides \n",
    "\"\"\""
   ]
  },
  {
   "cell_type": "code",
   "execution_count": 9,
   "metadata": {},
   "outputs": [],
   "source": [
    "CATEGORY = \"NCERT-CLASS11\"\n",
    "USER_ID = \"y12ft5bl30ue\""
   ]
  },
  {
   "cell_type": "code",
   "execution_count": 10,
   "metadata": {},
   "outputs": [
    {
     "name": "stdout",
     "output_type": "stream",
     "text": [
      "\n",
      "insecticides \n",
      "\n",
      "################################\n",
      "[-2.78523304e-02  3.51656824e-02  5.75683173e-03  9.91034787e-03\n",
      "  1.00275367e-01  3.28163989e-02  1.44359812e-01  7.33694062e-02\n",
      " -1.46872839e-02  5.13788983e-02  6.31587282e-02  2.06740759e-02\n",
      " -6.83918595e-02  1.49615938e-02 -7.00924024e-02  1.19596757e-01\n",
      "  4.61522602e-02  1.24170855e-02 -2.90377829e-02 -2.94955056e-02\n",
      " -1.78719126e-02  1.20200045e-01 -4.88790497e-03  2.27879398e-02\n",
      " -7.22499266e-02  6.86306059e-02 -6.49920776e-02 -1.70235634e-02\n",
      "  1.76101401e-02 -1.00150026e-01  3.36169153e-02  1.09935813e-01\n",
      " -2.75499392e-02 -3.75704840e-02  1.07240137e-02  3.17466119e-03\n",
      " -4.49945182e-02 -4.11352627e-02  3.83789726e-02  3.60567980e-02\n",
      "  2.72045545e-02  1.64701957e-02 -6.11227565e-02 -1.76620055e-02\n",
      " -6.51312619e-02 -7.20241433e-03  2.61772219e-02  4.79317941e-02\n",
      "  3.79317328e-02 -1.54906474e-02  7.62389153e-02 -3.96628454e-02\n",
      " -1.32190846e-02 -7.21594738e-03  4.86673351e-04 -1.54803306e-01\n",
      " -4.09071799e-03 -1.17628360e-02 -3.56799997e-02 -1.74940154e-02\n",
      "  2.62125544e-02  2.10871734e-03  2.80355336e-03  5.87606151e-03\n",
      " -1.08686239e-02 -2.48694643e-02 -2.42172903e-03 -3.81926750e-03\n",
      "  9.61095393e-02 -3.62510309e-02  2.96917674e-03 -6.21969327e-02\n",
      " -1.02458699e-02  5.29058166e-02  3.07015963e-02  1.69326495e-02\n",
      " -3.77322966e-03 -4.46896367e-02  6.94917887e-02 -9.31373015e-02\n",
      " -7.41418824e-02 -1.21638745e-01  4.69069220e-02  4.03049551e-02\n",
      "  1.27984881e-01 -1.86449587e-02  1.34248119e-02  5.25525324e-02\n",
      "  5.35811372e-02  4.92103249e-02  2.39514001e-02 -1.21692028e-02\n",
      "  3.63556221e-02  7.11636897e-03 -1.20915659e-01  4.17534634e-02\n",
      " -1.98002569e-02 -8.93505961e-02 -7.67013207e-02  1.64153039e-01\n",
      " -4.51516956e-02 -2.92851683e-02 -9.24646407e-02 -1.90358907e-02\n",
      " -3.85867916e-02 -2.53084227e-02  5.60156927e-02 -3.27603407e-02\n",
      "  2.81892642e-02 -3.66031453e-02 -8.00971761e-02  2.24531759e-02\n",
      "  1.88303851e-02  6.98017329e-02 -8.42237473e-02 -1.28622621e-01\n",
      "  5.24258204e-02 -6.20213524e-02  4.14935239e-02 -2.25112345e-02\n",
      "  4.43036556e-02  1.73893906e-02 -7.23871142e-02 -1.35882273e-02\n",
      "  3.69583406e-02 -1.62303634e-02 -5.96488938e-02 -1.81424439e-33\n",
      "  2.19864361e-02  6.50995150e-02  1.95633639e-02 -3.58901136e-02\n",
      " -6.11699559e-02 -3.89658511e-02 -7.02893361e-02  7.46213226e-03\n",
      "  5.59995100e-02 -1.42798834e-02 -2.50986405e-02 -1.12663299e-01\n",
      " -1.15001751e-02  5.49675291e-03  8.43254477e-02 -4.09480697e-03\n",
      "  1.22399703e-02  2.48533860e-02  1.16742387e-01 -4.10380028e-02\n",
      " -8.43099207e-02  2.14696173e-02 -9.22921002e-02 -5.66034345e-03\n",
      "  6.68046065e-03  5.95137626e-02 -6.97301626e-02  1.56433496e-03\n",
      "  1.09668570e-02  2.26007011e-02  1.44460484e-01  2.60858517e-02\n",
      " -3.95403057e-02  6.53981566e-02 -2.84309452e-03  5.56350313e-02\n",
      " -5.23007438e-02 -3.26678567e-02 -3.40687819e-02 -9.09959618e-03\n",
      " -3.89997214e-02 -4.07273397e-02  7.49140233e-03  6.20799186e-03\n",
      "  3.84144783e-02 -4.31672037e-02 -1.16136625e-01  7.39733949e-02\n",
      "  3.02379951e-02 -2.12779455e-02 -1.14719504e-02  2.37415284e-02\n",
      "  1.25057548e-01 -8.69850069e-03  3.51318531e-02  4.52820472e-02\n",
      " -2.19501387e-02 -9.26049426e-02 -3.45527045e-02  2.32957099e-02\n",
      "  4.04777285e-03  6.12340569e-02 -8.42558146e-02 -5.45348115e-02\n",
      "  1.02409638e-01 -3.88095155e-02  2.51431186e-02 -2.22774222e-03\n",
      " -2.31852792e-02 -6.88598081e-02 -1.20865479e-02 -2.37982310e-02\n",
      "  6.19510636e-02  4.63881455e-02 -6.29528090e-02 -1.94960902e-03\n",
      " -9.90539044e-03  3.14170234e-02 -3.93228531e-02  3.52491029e-02\n",
      "  4.76911142e-02 -9.26382095e-02  4.32084426e-02 -3.33708562e-02\n",
      " -6.48572817e-02  2.28561182e-02  1.48620652e-02 -3.86044495e-02\n",
      "  5.82990386e-02  4.36789244e-02  9.65975598e-03 -6.35709018e-02\n",
      " -1.80634558e-02 -3.24020395e-03 -4.91777174e-02  1.53795675e-33\n",
      " -5.12505695e-02 -6.47511426e-03  6.27875503e-04  5.14564402e-02\n",
      "  2.38568634e-02  2.62001604e-02  1.58743374e-03  8.18151701e-03\n",
      " -8.38831346e-03  2.32195929e-02 -1.31686917e-02  1.98526196e-02\n",
      " -6.76042633e-03 -3.77638936e-02 -6.01208443e-03  1.28994174e-02\n",
      "  5.07327355e-02  3.79086845e-03  6.11398555e-02 -8.68985653e-02\n",
      " -9.54883993e-02  6.11533262e-02  1.60787273e-02 -1.63993202e-02\n",
      " -3.01734172e-02  4.45119105e-02  5.85937221e-03  4.56219772e-03\n",
      "  3.22584659e-02 -2.80581973e-03  3.19102965e-03  2.72459686e-02\n",
      "  4.19829376e-02 -2.97414865e-02  5.84896561e-03 -3.02637722e-02\n",
      " -2.68460289e-02 -2.48503536e-02 -9.81854554e-03 -3.68285999e-02\n",
      "  1.50209367e-02 -9.91459005e-03  2.37762444e-02  4.33813222e-03\n",
      "  3.41401398e-02  5.61963320e-02 -2.09742989e-02  4.93824668e-02\n",
      "  2.10351571e-02 -1.99691411e-02 -3.55545338e-03  1.00769497e-01\n",
      " -1.89380739e-02 -1.97238475e-03  3.89120877e-02 -2.53805108e-02\n",
      "  5.04821539e-02 -6.55527562e-02  6.29773363e-02 -1.76161546e-02\n",
      "  3.41163017e-02  5.18186130e-02 -2.69392915e-02  5.40663339e-02\n",
      " -4.61554080e-02  5.01504168e-02 -1.70641821e-02  5.71627319e-02\n",
      "  2.57401094e-02 -5.99277318e-02  3.19468826e-02  1.05005102e-02\n",
      "  4.68274429e-02 -2.40400247e-02 -1.10919744e-01 -7.31778666e-02\n",
      "  3.93910855e-02 -7.47034140e-03  8.07686429e-03 -7.92507976e-02\n",
      "  2.47041453e-02 -3.22788954e-02 -1.72924213e-02 -2.45844736e-03\n",
      " -3.43435854e-02 -4.44383323e-02 -8.82886723e-02 -4.79197130e-03\n",
      " -1.56418968e-03 -4.09834683e-02 -9.67582613e-02  2.36109160e-02\n",
      "  2.28693150e-02  1.32680878e-01  3.79825644e-02 -1.17348069e-08\n",
      "  1.21052247e-02  4.21193102e-03  5.79597913e-02 -7.38959014e-02\n",
      "  9.42418072e-03 -1.83481921e-03  3.85307819e-02  6.95845932e-02\n",
      " -2.36669313e-02 -2.79862974e-02 -5.31553943e-03  8.41230229e-02\n",
      "  6.40345216e-02  7.02443253e-03  4.91461121e-02 -1.87774915e-02\n",
      " -9.00323852e-04  6.94575161e-03 -4.44323644e-02 -6.34237155e-02\n",
      " -7.40648657e-02  8.62412453e-02 -4.42812368e-02 -5.48665710e-02\n",
      "  2.15036869e-02 -3.18976790e-02  9.67689678e-02 -3.22826486e-03\n",
      "  8.61144736e-02  5.35561182e-02 -1.50385238e-02  6.82886541e-02\n",
      "  4.42617945e-02 -4.40939330e-02 -6.49262518e-02 -1.98251568e-02\n",
      " -2.51869727e-02 -5.01992628e-02  6.55463487e-02  5.69834001e-03\n",
      " -4.18020822e-02  6.95809498e-02 -1.85943041e-02 -9.24934261e-03\n",
      "  8.52965117e-02 -5.51166832e-02  5.26180491e-02  5.10093756e-02\n",
      " -2.08107326e-02 -2.90514901e-02  1.77687705e-02  5.56980260e-02\n",
      "  1.06667937e-03 -1.20533649e-02 -7.37757087e-02  4.70699277e-03\n",
      "  6.38016909e-02 -8.81368741e-02 -1.02818047e-03 -4.45072576e-02\n",
      "  1.37333171e-02 -6.71190023e-02  1.03995658e-01  8.18577930e-02]\n",
      "################################\n",
      "category = NCERT-CLASS11\n",
      "user_id = y12ft5bl30ue\n",
      "0.15409604\n",
      "0.15269017\n",
      "0.12706614\n",
      "0.115703814\n",
      "0.05919809\n"
     ]
    }
   ],
   "source": [
    "results_to_return, \\\n",
    "metadata_source_filename_to_return, \\\n",
    "metadata_source_page_to_return, \\\n",
    "reranker_score_to_return = search.get_search_results(user_input=query,\n",
    "                                                     CATEGORY=CATEGORY,\n",
    "                                                     user_id=USER_ID,\n",
    "                                                     )"
   ]
  },
  {
   "cell_type": "code",
   "execution_count": 11,
   "metadata": {},
   "outputs": [
    {
     "data": {
      "text/plain": [
       "['CHAP06-BIOLOGY-CLASS11.pdf',\n",
       " 'CHAP06-BIOLOGY-CLASS11.pdf',\n",
       " 'CHAP06-BIOLOGY-CLASS11.pdf',\n",
       " 'CHAP06-BIOLOGY-CLASS11.pdf',\n",
       " 'CHAP06-BIOLOGY-CLASS11.pdf']"
      ]
     },
     "execution_count": 11,
     "metadata": {},
     "output_type": "execute_result"
    }
   ],
   "source": [
    "metadata_source_filename_to_return"
   ]
  },
  {
   "cell_type": "code",
   "execution_count": 12,
   "metadata": {},
   "outputs": [
    {
     "data": {
      "text/plain": [
       "['CHAP06-BIOLOGY-CLASS11-1.pdf',\n",
       " 'CHAP06-BIOLOGY-CLASS11-1.pdf',\n",
       " 'CHAP06-BIOLOGY-CLASS11-0.pdf',\n",
       " 'CHAP06-BIOLOGY-CLASS11-5.pdf',\n",
       " 'CHAP06-BIOLOGY-CLASS11-1.pdf']"
      ]
     },
     "execution_count": 12,
     "metadata": {},
     "output_type": "execute_result"
    }
   ],
   "source": [
    "metadata_source_page_to_return"
   ]
  },
  {
   "cell_type": "code",
   "execution_count": 13,
   "metadata": {},
   "outputs": [
    {
     "data": {
      "text/plain": [
       "[]"
      ]
     },
     "execution_count": 13,
     "metadata": {},
     "output_type": "execute_result"
    }
   ],
   "source": [
    "reranker_score_to_return"
   ]
  },
  {
   "cell_type": "code",
   "execution_count": 14,
   "metadata": {},
   "outputs": [
    {
     "data": {
      "text/plain": [
       "' On the stem the epidermal hairs are called\\ntrichomes . The trichomes in the shoot system ar e usually multicellular .\\nThey may be branched  or unbranched and soft or stiff. They may even\\nbe secretory. The trichomes help in preventing water loss due to\\ntranspiration.\\n6.1.2 The Ground Tissue System\\nAll tissues except epidermis and vascular bundles constitute the ground\\ntissue . It consists of simple tissues such as parenchyma, collenchyma\\nand sclerenchyma. Parenchymatous cells are usually present in cortex,\\npericycle, pith and medullary rays, in the primary stems and roots. In\\nleaves, the ground tissue consists of thin-walled chloroplast containing\\ncells and is called mesophyll .\\narranged cells, which for m a continuous layer . Epider mis is usually single-\\nlayered. Epidermal cells are parenchymatous with a small amount of\\ncytoplasm lining the cell wall and a large vacuole. The outside of the\\nepidermis is often covered with a waxy thick layer called the cuticle  which\\nprevents the loss of water . Cuticle is absent in r oots.'"
      ]
     },
     "execution_count": 14,
     "metadata": {},
     "output_type": "execute_result"
    }
   ],
   "source": [
    "results_to_return[0]"
   ]
  },
  {
   "cell_type": "code",
   "execution_count": 15,
   "metadata": {},
   "outputs": [],
   "source": [
    "def get_reply(user_input, content):\n",
    "\n",
    "    azure_open_ai_manager = AzureOpenAIManager(\n",
    "                    endpoint=AZURE_OPENAI_ENDPOINT,\n",
    "                    api_key=AZURE_OPENAI_KEY,\n",
    "                    deployment_id=AZURE_OPENAI_DEPLOYMENT_ID,\n",
    "                    api_version=\"2023-05-15\"\n",
    "                )\n",
    "    \n",
    "    conversation=[{\"role\": \"system\", \"content\": \"If the answer is not found within the context, please mention \\\n",
    "        that the answer is not found \\\n",
    "        Do not answer anything which is not in the context\"}]\n",
    "    reply = azure_open_ai_manager.generate_reply_from_context(user_input, content, conversation)\n",
    "    return reply"
   ]
  },
  {
   "cell_type": "code",
   "execution_count": 16,
   "metadata": {},
   "outputs": [],
   "source": [
    "azure_blob_helper = AzureBlobHelper(AZ_ST_ACC_NAME,\n",
    "                                    AZ_ST_ACC_KEY,\n",
    "                                    AZ_ST_CONTAINER_NAME)"
   ]
  },
  {
   "cell_type": "code",
   "execution_count": 17,
   "metadata": {},
   "outputs": [],
   "source": [
    "context = \"\\n\".join(results_to_return)\n",
    "reply = get_reply(query, context)\n",
    "\n",
    "URLs = []\n",
    "\n",
    "reranker_confidence = \"\"\n",
    "\n",
    "for page in metadata_source_page_to_return:\n",
    "    URLs.append(azure_blob_helper.generate_sas_url(page))\n"
   ]
  },
  {
   "cell_type": "code",
   "execution_count": 18,
   "metadata": {},
   "outputs": [
    {
     "data": {
      "text/plain": [
       "(('The information about insecticides is not found in the provided context.',\n",
       "  1535,\n",
       "  1522,\n",
       "  13),\n",
       " None)"
      ]
     },
     "execution_count": 18,
     "metadata": {},
     "output_type": "execute_result"
    }
   ],
   "source": [
    "reply"
   ]
  },
  {
   "cell_type": "code",
   "execution_count": null,
   "metadata": {},
   "outputs": [],
   "source": []
  }
 ],
 "metadata": {
  "kernelspec": {
   "display_name": ".venv",
   "language": "python",
   "name": "python3"
  },
  "language_info": {
   "codemirror_mode": {
    "name": "ipython",
    "version": 3
   },
   "file_extension": ".py",
   "mimetype": "text/x-python",
   "name": "python",
   "nbconvert_exporter": "python",
   "pygments_lexer": "ipython3",
   "version": "3.11.6"
  }
 },
 "nbformat": 4,
 "nbformat_minor": 2
}
