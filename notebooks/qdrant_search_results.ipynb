{
 "cells": [
  {
   "cell_type": "code",
   "execution_count": 32,
   "metadata": {},
   "outputs": [],
   "source": [
    "import sys\n",
    "sys.path.append('..')\n",
    "from config_notebooks import *\n",
    "from qdrant.qdrant_helper import *\n",
    "from azureopenaimanager.azureopenai_helper import AzureOpenAIManager\n",
    "from azure_blob.azure_blob_helper import AzureBlobHelper"
   ]
  },
  {
   "cell_type": "code",
   "execution_count": 33,
   "metadata": {},
   "outputs": [],
   "source": [
    "search = QdrantHelper(QDRANT_URL,QDRANT_KEY,MODEL_NAME,QDRANT_COLLECTION)"
   ]
  },
  {
   "cell_type": "code",
   "execution_count": 34,
   "metadata": {},
   "outputs": [],
   "source": [
    "query = \"\"\"\n",
    "airquality\n",
    "\"\"\""
   ]
  },
  {
   "cell_type": "code",
   "execution_count": 35,
   "metadata": {},
   "outputs": [],
   "source": [
    "CATEGORY = \"\"\n",
    "USER_ID = \"ambarish.ganguly@gmail.com\""
   ]
  },
  {
   "cell_type": "code",
   "execution_count": 36,
   "metadata": {},
   "outputs": [
    {
     "name": "stdout",
     "output_type": "stream",
     "text": [
      "\n",
      "airquality\n",
      "\n",
      "################################\n",
      "[ 2.67537870e-02  2.80400855e-03  1.45375431e-02  4.11954671e-02\n",
      " -3.58234607e-02 -5.37923463e-02  3.03899776e-02 -7.80610228e-03\n",
      " -4.58041131e-02 -3.68308388e-02 -4.35719499e-03  3.67756421e-03\n",
      "  4.52397019e-02 -1.92694422e-02 -1.05518773e-02  1.85018349e-02\n",
      "  3.93638536e-02 -3.77713963e-02 -1.28672063e-01  2.86708623e-02\n",
      "  6.92697568e-03 -5.58540523e-02 -1.74659938e-02  5.14288060e-02\n",
      "  2.68191155e-02 -7.54784346e-02 -1.76659953e-02  5.82257584e-02\n",
      "  1.00462839e-01 -1.18586142e-03 -2.43586749e-02  3.28907333e-02\n",
      "  4.69655842e-02 -4.81682783e-03 -9.68415756e-03 -4.07744944e-02\n",
      "  1.53529514e-02 -1.57369561e-02 -2.85919774e-02 -3.87604348e-02\n",
      " -8.01291242e-02 -5.34100644e-02  6.40705079e-02  8.47677216e-02\n",
      " -9.18237939e-02  1.21524155e-01 -2.87733283e-02  5.87094612e-02\n",
      "  1.53603619e-02 -1.91666633e-02 -1.85056813e-02  4.18481454e-02\n",
      " -5.13135642e-02  3.76429991e-03 -6.20373599e-02  4.11809906e-02\n",
      " -2.01984663e-02 -3.99356298e-02 -4.65575121e-02 -9.04684514e-02\n",
      "  1.97846927e-02  1.25225252e-02 -2.38859486e-02 -1.02350861e-02\n",
      "  6.09557591e-02 -3.05912122e-02  8.86320043e-03  3.25111696e-03\n",
      " -6.16604947e-02  1.01127677e-01  2.72784922e-02  2.54555680e-02\n",
      " -5.04666716e-02  1.58735644e-02  8.32583010e-02 -1.44233927e-04\n",
      "  4.75981906e-02 -7.85685033e-02  3.32280137e-02  2.96416562e-02\n",
      "  9.60769802e-02 -4.52018045e-02 -1.66501448e-01 -3.45637910e-02\n",
      " -3.53745781e-02 -7.36886188e-02  3.54242846e-02 -1.03422239e-01\n",
      "  1.87495351e-02  2.25146953e-02 -3.35793197e-02 -4.37816605e-02\n",
      " -5.80286235e-03  3.52902450e-02 -1.75850485e-02 -6.39480948e-02\n",
      "  4.22604233e-02  5.91986626e-02 -3.55981686e-03  1.13247648e-01\n",
      " -2.95575545e-03 -3.64588611e-02 -7.21577322e-03  3.55948210e-02\n",
      "  1.94264331e-03 -8.77251029e-02  8.24872032e-02 -4.41402309e-02\n",
      "  2.08693296e-02  3.46918171e-03  3.02507747e-02 -5.64651601e-02\n",
      "  7.60460049e-02 -2.41344664e-02  1.61932074e-02  3.36660147e-02\n",
      " -1.07060904e-02  1.22134387e-02 -4.23746258e-02 -1.08601123e-01\n",
      " -2.05484144e-02  4.98554856e-02 -9.79941525e-03  3.05771958e-02\n",
      "  3.00472472e-02 -1.18972160e-01 -4.46416140e-02 -6.16475109e-34\n",
      "  9.14651249e-03 -7.27977380e-02  9.78855044e-02  8.90179351e-03\n",
      "  3.60935628e-02 -3.92283284e-04 -6.15802705e-02 -5.05427122e-02\n",
      "  5.31044453e-02  1.24631427e-01 -7.58536980e-02  1.03550486e-01\n",
      " -1.22240894e-02 -4.79158871e-02  1.19918525e-01 -3.02465614e-02\n",
      " -9.60205123e-02 -2.40365113e-03 -3.21611799e-02 -5.86766517e-03\n",
      " -6.60464540e-02 -1.43557280e-01 -6.58089444e-02  6.76634386e-02\n",
      "  7.90283643e-03 -8.07841942e-02 -2.25562658e-02 -4.28561447e-03\n",
      " -3.53317373e-02 -4.52886568e-03  2.91655045e-02 -9.68034007e-03\n",
      " -4.84992703e-03 -1.17605897e-02 -4.76313159e-02  1.99633930e-02\n",
      "  2.57768054e-02 -5.94024139e-04  2.66167782e-02 -1.37027651e-02\n",
      " -1.20619349e-01 -1.74747233e-03  2.49583069e-02 -3.94799970e-02\n",
      "  6.88252747e-02  6.07939553e-04  4.18954678e-02  1.82183404e-02\n",
      " -2.59705284e-05  4.01657447e-02 -2.61423141e-02  4.08172756e-02\n",
      " -1.22444183e-02  1.34663675e-02  1.02167189e-01  8.40822607e-03\n",
      "  7.21727079e-03  6.74071237e-02 -6.27439516e-03 -5.34944050e-03\n",
      " -4.31680717e-02 -2.92915031e-02  9.35421363e-02 -1.86236110e-02\n",
      " -3.64482328e-02  3.75846587e-02  2.05181027e-03 -4.70257066e-02\n",
      "  4.54550013e-02  5.76032326e-02 -5.71958870e-02 -4.49071042e-02\n",
      " -1.69791225e-02  4.27995548e-02  3.26897192e-04  6.34969911e-04\n",
      "  1.09353084e-02  3.43031958e-02  2.46520806e-02 -2.68260743e-02\n",
      " -5.53654879e-02 -8.77824239e-03  3.86014991e-02 -9.62974653e-02\n",
      " -4.92446721e-02 -8.25629383e-02  9.51376557e-03 -2.63622366e-02\n",
      "  1.33589851e-02 -1.02926726e-02 -1.02647908e-01 -3.97097841e-02\n",
      "  8.59562904e-02  3.32410783e-02  3.59966978e-02 -7.86588473e-34\n",
      " -3.51341777e-02  2.77865883e-02 -1.36655167e-01  1.23300739e-02\n",
      "  2.42481064e-02  2.51447242e-02  7.76687115e-02  4.00418183e-03\n",
      " -9.43047926e-02  4.16999683e-02  1.89130120e-02  2.33567581e-02\n",
      "  8.00237060e-03 -6.61511207e-03  7.34135285e-02  1.32088494e-02\n",
      "  4.74085053e-03 -2.28756201e-02  2.88499752e-03  3.09151150e-02\n",
      " -1.56855993e-02 -6.16237149e-02  7.90607184e-02  4.98282090e-02\n",
      " -3.79078798e-02 -3.51116387e-03 -9.55873355e-03  8.68891366e-03\n",
      " -5.76726086e-02 -2.16548163e-02 -4.89551127e-02  6.33059675e-03\n",
      "  6.17645681e-03  7.72495121e-02 -1.55436797e-02 -9.57464576e-02\n",
      "  6.29035905e-02 -3.16221565e-02 -5.78835718e-02  7.93955475e-03\n",
      "  1.96052156e-02 -1.05438121e-02  5.94581477e-02  2.66562402e-03\n",
      " -7.11069908e-03  6.16140664e-02  7.33639523e-02 -9.05662552e-02\n",
      "  6.36814162e-02 -1.04219228e-01  4.36678343e-02  3.58843873e-03\n",
      " -1.18413195e-02  5.10054901e-02  7.13413879e-02  2.61932053e-02\n",
      " -1.97736509e-02 -4.53806780e-02  6.02029897e-02  3.67254280e-02\n",
      "  2.63495166e-02 -2.42388602e-02 -2.65148133e-02  1.35644646e-02\n",
      " -5.45986816e-02 -1.96436383e-02  2.02924162e-02  2.28856858e-02\n",
      "  3.37821990e-02  3.62279564e-02 -3.50841582e-02 -7.14838621e-04\n",
      "  3.55513254e-03 -1.96736753e-02 -8.00568461e-02  3.69624980e-02\n",
      "  1.43550321e-01  4.68218550e-02 -1.49663873e-02  4.42098975e-02\n",
      " -1.26630798e-01  3.25103812e-02  3.54163498e-02  6.06492311e-02\n",
      " -5.71583994e-02  6.20846860e-02 -1.95822436e-02 -1.99621432e-02\n",
      "  8.44198931e-03  6.19397424e-02 -3.11073512e-02  6.86026737e-02\n",
      "  4.77180816e-02 -1.51777014e-01  6.02957606e-02 -1.43868988e-08\n",
      " -2.64338944e-02 -2.49777036e-03  3.72776203e-02  5.11300238e-03\n",
      " -7.64524266e-02  2.71267164e-02  1.25121754e-02 -1.73726398e-02\n",
      "  7.20444368e-03  5.99453822e-02  1.41183538e-02  4.47637923e-02\n",
      "  3.46591771e-02  7.92946890e-02  6.11170270e-02 -7.44485408e-02\n",
      " -1.30939662e-01 -1.44798087e-03 -2.66163964e-02  1.03840046e-02\n",
      "  1.01689370e-02  1.54096903e-02  1.71555653e-02 -1.36560872e-02\n",
      "  3.07610538e-02  8.97422805e-02 -1.29817647e-03 -1.08196484e-02\n",
      "  9.74874292e-03  5.26679121e-02  2.49762945e-02  5.63890785e-02\n",
      " -8.20024754e-04 -1.33083031e-01 -2.23399308e-02 -2.61390451e-02\n",
      "  1.01533523e-02  3.96657996e-02 -8.76712650e-02  7.71975901e-04\n",
      " -8.20496008e-02  3.19475750e-03 -2.31721462e-03 -1.76610146e-02\n",
      "  9.56891403e-02  5.25504872e-02  6.10228367e-02  5.34035303e-02\n",
      " -1.84112303e-02 -6.94733066e-03  3.82245611e-03  2.49393377e-02\n",
      "  6.80770054e-02 -2.31023859e-02  3.86209898e-02 -4.75060306e-02\n",
      " -7.42284358e-02  7.49479383e-02 -5.16848117e-02  6.97537139e-03\n",
      "  4.52561267e-02  6.03254028e-02 -4.79989350e-02  3.74866091e-02]\n",
      "################################\n",
      "category = \n",
      "user_id = ambarish.ganguly@gmail.com\n",
      "0.22721183\n",
      "0.22235075\n",
      "0.19053534\n",
      "0.189623\n",
      "0.17913906\n"
     ]
    }
   ],
   "source": [
    "results_to_return, \\\n",
    "metadata_source_filename_to_return, \\\n",
    "metadata_source_page_to_return, \\\n",
    "reranker_score_to_return = search.get_search_results(user_input=query,\n",
    "                                                     CATEGORY=CATEGORY,\n",
    "                                                     user_id=USER_ID,\n",
    "                                                     )"
   ]
  },
  {
   "cell_type": "code",
   "execution_count": 37,
   "metadata": {},
   "outputs": [
    {
     "data": {
      "text/plain": [
       "['air qual 12.pdf',\n",
       " 'air qual 12.pdf',\n",
       " 'air qual 12.pdf',\n",
       " 'air qual 12.pdf',\n",
       " 'air qual 12.pdf']"
      ]
     },
     "execution_count": 37,
     "metadata": {},
     "output_type": "execute_result"
    }
   ],
   "source": [
    "metadata_source_filename_to_return"
   ]
  },
  {
   "cell_type": "code",
   "execution_count": 38,
   "metadata": {},
   "outputs": [
    {
     "data": {
      "text/plain": [
       "['air qual 12-8.pdf',\n",
       " 'air qual 12-2.pdf',\n",
       " 'air qual 12-9.pdf',\n",
       " 'air qual 12-1.pdf',\n",
       " 'air qual 12-6.pdf']"
      ]
     },
     "execution_count": 38,
     "metadata": {},
     "output_type": "execute_result"
    }
   ],
   "source": [
    "metadata_source_page_to_return"
   ]
  },
  {
   "cell_type": "code",
   "execution_count": 39,
   "metadata": {},
   "outputs": [
    {
     "data": {
      "text/plain": [
       "[]"
      ]
     },
     "execution_count": 39,
     "metadata": {},
     "output_type": "execute_result"
    }
   ],
   "source": [
    "reranker_score_to_return"
   ]
  },
  {
   "cell_type": "code",
   "execution_count": 40,
   "metadata": {},
   "outputs": [
    {
     "data": {
      "text/plain": [
       "[' Finally, we thank Fabrizio Pia-\\ncentini and the Italian beekeeping federation (FAI) for their kind support \\nof this project. \\nAppendix A.Supplementary data \\nSupplementary data to this article can be found online at https://doi. \\norg/10.1016/j.ecolind.2022.109061 . \\nReferences \\nAbbasi, S., Olander, L., Larsson, C., Olofsson, U., Jansson, A., Sellgren, U., 2012. A field \\ntest study of airborne wear particles from a running regional train. Proceed. Institut. \\nMechan. Eng., Part F: J. Rail Rapid Transit 226 (1), 95–109. \\nAL-Alam, J., Chbani, A., Faljoun, Z., Millet, M., 2019. The use of vegetation, bees, and \\nsnails as important tools for the biomonitoring of atmospheric pollution —a review. \\nEnviron. Sci. Pollut. Res. 26, 9391 –9408. \\n´Alvarez-Ayuso, E., Abad-Valle, P., 2017. Trace element levels in an area impacted by old \\nmining operations and their relationship with beehive products. Sci. Total Environ. \\n599, 671–678. \\nAshby, W.R., 1958. Requisite variety and its implications for the control of complex \\nsystems.',\n",
       " ' (For interpretation of the references to colour in this figure legend, the reader is referred to the web version of this article.) M.E. Conti et al.                                                                                                                                                                                                                                Ecological Indicators 140 (2022) 109061\\n4Imin =max(Qi,2.5, Qj,2.5) with i =1, 2,..,k and i ∕=j. \\nImax =min(Qi,97.5, Qj,97.5) with i =1, 2,..,k and i ∕=j. \\nWe have considered abnormal values and outliers. Subsequently, the \\nOBI definition concerning the maximum and minimum overlap range is \\nas follows: \\nOBI-U i for the ith biomonitor/indicator with respect to Qi,97.5 is \\ndefined as: \\nOBI -Ui=Qi,97.5\\nImaxwith i=1,2,⋯K \\nOBI-U i is usually ≥1 and becomes 1 when Qi,97.5 =Imax. \\nOBI-L i for the ith biomonitor/indicator with respect to Qi,2.5 is \\ndefined as: \\nOBI -Li=Imin\\nQi,2.5 \\nThe median test and post hoc comparisons have been applied to \\ncompare medians.',\n",
       " ' Use of indicator plants for biological \\nmonitoring of effects of air pollution: the Dutch approach. VDI Ber. 609, 205–216. \\nVan Drooge, B.L., Crusack, M., Reche, C., Mohr, C., Alastuey, A., Querol, X., Prevot, A., \\nDay, A.D., Jimenez, J.L., Grimalt, J.O., 2012. Molecular marker characterisation of \\nthe organic composition of submicron aerosols from Mediterranean urban and rural \\nenvironments under contrasting meteorological conditions. Atmos. Environ. 61, \\n482–489. M.E. Conti et al.                                                                                                                                                                                                                                Ecological Indicators 140 (2022) 109061\\n11Vitali, M., Antonucci, A., Owczarek, M., Guidotti, M., Astolfi, M.L., Manigrasso, M., \\nAvino, P., Bhattacharya, B., Protano, C., 2019. Air quality assessment in different \\nenvironmental scenarios by the determination of typical heavy metals and Persistent \\nOrganic Pollutants in native lichen Xanthoria parietina.',\n",
       " 'the range of overlaps of element \\nconcentrations and the overlap bioaccumulation index (OBI) with \\nrespect to the upper (OBI-U pper) and lower (OBI-L ower) bound of the \\noverlap range (Conti et al., 2015, 2019a ). The OBI index defines a \\nranking that determines which, among the various matrices/indicators \\nstudied, can be considered more sensitive to bioaccumulation of a given \\npollutant. In its definition (absolute values), this index varies between 1 \\nand +∞ both if calculated net of rare events on the left of the tail of the \\ndistribution of a given pollutant (OBI-L) and on the right (OBI-U) (Conti \\net al., 2022 ). \\nIn sum:  \\n1. We have measured the baseline levels of elemental tracers of traffic, \\nbiomass burning and soil deposition, on which we have built the \\ncontrol charts (Johnson ’s method).  \\n2. We applied the OBI for ranking the selected indicators according to \\ntheir median elements ’ content.  \\n3. The advantage of the OBI is that it considers groups of indicators \\nsimultaneously. This is more connected to a holistic approach than \\nclassical, deterministic studies. \\nWe have already tested the OBI in various studies carried out in the \\nlast decade (Conti et al.',\n",
       " '0 \\nRange of overlap 0.5–16.1    \\nTable 3 \\nQ2.5 and Q97.5 percentiles of K data distribution (µg/g) and K OBI index.  \\nMatrice Q2.5 Q97.5 OBI-L OBI-U \\nBees 5960 11100  1.0  4.1 \\nWax 126 7420  47.3  2.8 \\nHoney 174 2690  34.2  1.0 \\nPollen 1280 2810  4.7  1.0 \\nPropolis 567 3470  10.5  1.3 \\nRange of overlap 2690 –5960    Table 4 \\nQ2.5 and Q97.5 percentiles of Si data distribution (µg/g) and Si OBI index.  \\nMatrix Q2.5 Q97.5 OBI-L OBI-U \\nBees 89 249  3.6  4.4 \\nWax 12 85  26.8  1.5 \\nHoney 30 57  10.9  1.0 \\nPollen 58 171  5.6  3.0 \\nPropolis 322 940  1.0  16.5 \\nRange of overlap 57–322    M.E. Conti et al.                                                                                                                                                                                                                                Ecological Indicators 140 (2022) 109061\\n8Another relevant result is the high OBI-L values obtained for honey for \\nsome traffic tracers (i.e., 53.7, 154.4, and 112.0 for Cu, Fe and Mn, \\nTable 2, S3, S4, respectively).']"
      ]
     },
     "execution_count": 40,
     "metadata": {},
     "output_type": "execute_result"
    }
   ],
   "source": [
    "results_to_return"
   ]
  },
  {
   "cell_type": "code",
   "execution_count": 41,
   "metadata": {},
   "outputs": [],
   "source": [
    "def get_reply(user_input, content):\n",
    "\n",
    "    azure_open_ai_manager = AzureOpenAIManager(\n",
    "                    endpoint=AZURE_OPENAI_ENDPOINT,\n",
    "                    api_key=AZURE_OPENAI_KEY,\n",
    "                    deployment_id=AZURE_OPENAI_DEPLOYMENT_GPT_4O_ID,\n",
    "                    api_version=\"2023-05-15\"\n",
    "                )\n",
    "    \n",
    "    conversation=[]\n",
    "    reply = azure_open_ai_manager.generate_reply_from_context(user_input, content, conversation)\n",
    "    return reply"
   ]
  },
  {
   "cell_type": "code",
   "execution_count": 42,
   "metadata": {},
   "outputs": [],
   "source": [
    "azure_blob_helper = AzureBlobHelper(AZ_ST_ACC_NAME,\n",
    "                                    AZ_ST_ACC_KEY,\n",
    "                                    AZ_ST_CONTAINER_NAME)"
   ]
  },
  {
   "cell_type": "code",
   "execution_count": 43,
   "metadata": {},
   "outputs": [],
   "source": [
    "context = \"\\n\".join(results_to_return)\n",
    "reply = get_reply(query, context)\n",
    "\n",
    "URLs = []\n",
    "\n",
    "reranker_confidence = \"\"\n",
    "\n",
    "for page in metadata_source_page_to_return:\n",
    "    URLs.append(azure_blob_helper.generate_sas_url(page))\n"
   ]
  },
  {
   "cell_type": "code",
   "execution_count": 44,
   "metadata": {},
   "outputs": [
    {
     "data": {
      "text/plain": [
       "(('The answer is not found.', 1568, 1562, 6), None)"
      ]
     },
     "execution_count": 44,
     "metadata": {},
     "output_type": "execute_result"
    }
   ],
   "source": [
    "reply"
   ]
  },
  {
   "cell_type": "code",
   "execution_count": 45,
   "metadata": {},
   "outputs": [
    {
     "name": "stdout",
     "output_type": "stream",
     "text": [
      "'The answer is not found.'\n"
     ]
    }
   ],
   "source": [
    "from pprint import pprint\n",
    "pprint(reply[0][0])"
   ]
  },
  {
   "cell_type": "code",
   "execution_count": null,
   "metadata": {},
   "outputs": [],
   "source": []
  }
 ],
 "metadata": {
  "kernelspec": {
   "display_name": ".venv",
   "language": "python",
   "name": "python3"
  },
  "language_info": {
   "codemirror_mode": {
    "name": "ipython",
    "version": 3
   },
   "file_extension": ".py",
   "mimetype": "text/x-python",
   "name": "python",
   "nbconvert_exporter": "python",
   "pygments_lexer": "ipython3",
   "version": "3.11.6"
  }
 },
 "nbformat": 4,
 "nbformat_minor": 2
}
