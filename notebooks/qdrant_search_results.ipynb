{
 "cells": [
  {
   "cell_type": "code",
   "execution_count": 30,
   "metadata": {},
   "outputs": [],
   "source": [
    "import sys\n",
    "sys.path.append('..')\n",
    "from config_notebooks import *\n",
    "from qdrant.qdrant_helper import *\n",
    "from azureopenaimanager.azureopenai_helper import AzureOpenAIManager\n",
    "from azure_blob.azure_blob_helper import AzureBlobHelper"
   ]
  },
  {
   "cell_type": "code",
   "execution_count": 31,
   "metadata": {},
   "outputs": [],
   "source": [
    "search = QdrantHelper(QDRANT_URL,QDRANT_KEY,MODEL_NAME,QDRANT_COLLECTION)"
   ]
  },
  {
   "cell_type": "code",
   "execution_count": 32,
   "metadata": {},
   "outputs": [],
   "source": [
    "query = \"\"\"\n",
    "What is Gene Therapy ?\n",
    "\"\"\""
   ]
  },
  {
   "cell_type": "code",
   "execution_count": 33,
   "metadata": {},
   "outputs": [
    {
     "name": "stdout",
     "output_type": "stream",
     "text": [
      "\n",
      "What is Gene Therapy ?\n",
      "\n",
      "################################\n",
      "[-7.56286606e-02  6.96051493e-03 -3.21705565e-02  1.62467882e-02\n",
      " -2.45563965e-02 -1.46129709e-02  1.65800173e-02  9.32865515e-02\n",
      " -7.13963411e-04  2.87732948e-02 -2.06096098e-02  9.12972838e-02\n",
      " -4.89719510e-02 -1.60598680e-02 -9.05137733e-02  1.07927993e-01\n",
      " -4.66796122e-02  5.43054640e-02  5.97447827e-02 -3.87682579e-02\n",
      " -5.62033318e-02  8.25572759e-02  7.50292093e-02  9.05618444e-03\n",
      " -3.41565423e-02  1.72764622e-02 -4.94904397e-03 -1.98379122e-02\n",
      " -4.91072796e-03  1.96633022e-02  3.43820155e-02  1.15315113e-02\n",
      " -1.99043751e-02  5.04070446e-02 -6.87898919e-02  7.65125006e-02\n",
      " -5.73197566e-02  2.34549884e-02 -2.94078365e-02 -2.16272026e-02\n",
      "  2.91770454e-02 -1.66741591e-02 -2.80940756e-02  3.78320366e-02\n",
      "  5.84611595e-02 -4.91465889e-02 -5.56746721e-02 -4.33879942e-02\n",
      " -9.71481088e-04  1.69822685e-02 -2.78769676e-02 -1.65191274e-02\n",
      " -1.72071159e-02 -4.21385132e-02  1.81118939e-02 -5.11367689e-05\n",
      "  1.70102064e-02 -5.30016385e-02  2.66681425e-02 -1.71438847e-02\n",
      "  7.83574805e-02 -1.61435734e-02 -8.36589560e-02 -7.29998108e-03\n",
      "  1.16106540e-01 -5.46634346e-02  7.28429556e-02  9.59045440e-03\n",
      "  3.35542075e-02 -9.31440368e-02  1.88147034e-02 -1.40845298e-03\n",
      " -3.40724438e-02  6.77038953e-02  1.72940101e-02 -3.03203985e-02\n",
      "  2.79954802e-02  3.25018764e-02  4.49449532e-02  3.70550388e-03\n",
      " -5.28973341e-03 -6.72681816e-03  5.02240099e-02  2.65817903e-02\n",
      " -3.20402309e-02  1.82883143e-02  2.93109044e-02  8.99821520e-02\n",
      "  1.57224294e-02  1.03657484e-01 -4.53168973e-02 -2.97520161e-02\n",
      "  2.12012567e-02  3.36510479e-03 -7.43458048e-02  4.32828208e-03\n",
      "  8.93402845e-03 -9.24668461e-02  6.10892102e-03  7.07218796e-03\n",
      " -4.10149136e-04  3.74016672e-04 -3.49439755e-02 -1.18729165e-02\n",
      " -5.05255386e-02 -1.76080614e-02 -1.11956932e-02 -5.94260246e-02\n",
      " -1.79132418e-04 -2.03146003e-02 -1.00607723e-01 -7.95167778e-03\n",
      "  2.74931174e-03  6.27836958e-02 -7.78199285e-02  9.09428746e-02\n",
      "  1.34897940e-02  3.74884158e-02  8.23805407e-02  3.15516032e-02\n",
      "  3.66284177e-02 -2.25340165e-02  6.62472658e-03 -2.80635897e-02\n",
      " -7.33364522e-02  1.21456515e-02 -8.18831846e-02 -6.20135571e-33\n",
      "  1.69131905e-02 -2.96066012e-02 -2.74367481e-02  4.80237864e-02\n",
      " -2.61342116e-02  3.58025581e-02  2.22549830e-02 -3.17947939e-02\n",
      " -1.09869212e-01 -7.34058768e-02 -2.26695966e-02 -1.11067891e-01\n",
      "  3.46659273e-02  9.51746777e-02 -1.67766202e-03 -4.00975235e-02\n",
      " -1.17512800e-01  4.31592874e-02  2.21324060e-02 -2.31536496e-02\n",
      " -2.78149769e-02  1.00718744e-01 -3.74757685e-02  3.50007154e-02\n",
      " -2.80570872e-02 -5.09483814e-02 -9.38373879e-02  5.09880520e-02\n",
      "  9.70429033e-02  1.74548440e-02 -3.68736237e-02  4.32225578e-02\n",
      "  1.57161690e-02  7.26193050e-03  2.24375054e-02  1.09117823e-02\n",
      "  3.99526916e-02 -1.12099744e-01  6.31846562e-02  9.87121761e-02\n",
      " -5.60096651e-02 -1.30766788e-02 -6.85420539e-03 -1.67123619e-02\n",
      "  5.41447103e-02  2.41513997e-02 -2.34606229e-02 -5.82707599e-02\n",
      " -1.40859082e-01  8.48895386e-02  2.81707700e-02  2.06507016e-02\n",
      " -1.40219247e-02 -9.21073258e-02  1.27527211e-02  3.24892774e-02\n",
      " -5.62528782e-02 -7.31132226e-03 -6.18790044e-03  4.00180630e-02\n",
      "  4.19804491e-02  7.46434033e-02 -1.55521347e-03  4.06151935e-02\n",
      " -4.95199375e-02 -3.39848548e-02 -1.23816384e-02 -6.07669093e-02\n",
      "  2.41770484e-02  3.52138616e-02 -4.85543534e-03 -6.20538229e-03\n",
      "  1.68219320e-02 -2.40536965e-02 -2.62465142e-02 -5.43390699e-02\n",
      " -1.41782565e-02  8.01967382e-02 -1.17644794e-01  3.46117914e-02\n",
      " -4.25105430e-02  1.43789721e-03 -6.50380105e-02  2.14883387e-02\n",
      "  4.63526696e-02 -2.27743480e-02 -5.54827750e-02  5.61207952e-03\n",
      " -5.18162623e-02 -5.94263561e-02  2.83861719e-02 -6.60189986e-02\n",
      " -3.85449268e-02 -4.48652804e-02  4.82124090e-02  2.04933793e-33\n",
      " -3.09241414e-02 -1.34190386e-02  2.29521394e-02  3.25677656e-02\n",
      " -2.77759526e-02 -1.92204155e-02  1.01983342e-02 -1.47875017e-02\n",
      "  7.90047869e-02  3.60144228e-02 -5.38315531e-03  5.72826108e-03\n",
      "  2.69683450e-03 -3.39118727e-02 -3.84637453e-02 -3.65556777e-02\n",
      " -2.53179818e-02 -4.53314977e-03 -1.06956959e-01 -7.61834625e-03\n",
      "  3.70795354e-02  8.58621225e-02  2.17521954e-02  1.13702547e-02\n",
      " -1.05625484e-03 -7.29974955e-02 -6.07872158e-02  8.25361311e-02\n",
      " -1.46039221e-02 -1.61811505e-02 -1.40075218e-02 -1.48054231e-02\n",
      " -6.60129488e-02  2.52982695e-02  6.88160211e-02  5.38431667e-02\n",
      "  1.41786471e-01  4.19614390e-02 -1.50604658e-02 -9.03200358e-02\n",
      " -2.23530959e-02  2.63180733e-02 -1.00470014e-01  1.19702078e-01\n",
      "  1.45017672e-02  7.80672058e-02 -4.54073399e-03  5.37270159e-02\n",
      "  2.94201374e-02 -2.02865135e-02 -1.73184294e-02  3.91397923e-02\n",
      "  1.14005201e-01 -2.73809079e-02  3.01343054e-02 -1.03693634e-01\n",
      "  6.51711673e-02 -5.45502342e-02 -1.00177884e-01  5.44563122e-02\n",
      " -1.39455136e-03 -8.34662542e-02  3.37016694e-02  3.88590842e-02\n",
      " -1.79562485e-03  7.23197907e-02  1.00755338e-02  5.62832803e-02\n",
      "  2.90210806e-02 -3.63520980e-02  5.04194349e-02  7.30196312e-02\n",
      "  5.28437272e-02  7.57423136e-03 -3.09602786e-02 -1.59994252e-02\n",
      " -3.73593569e-02 -1.93023346e-02 -2.50704587e-02  1.25195575e-03\n",
      "  3.03866371e-04 -8.05331916e-02  8.24305788e-02 -4.29102741e-02\n",
      "  3.87591384e-02 -2.02748869e-02  2.60225572e-02  1.16834305e-01\n",
      " -1.44984378e-02 -2.17041951e-02 -4.34191339e-02 -4.98349443e-02\n",
      " -2.50312611e-02 -2.74038576e-02  8.98883329e-04 -1.40988412e-08\n",
      "  6.81008697e-02 -1.26031190e-01 -1.43707534e-02 -1.40442893e-01\n",
      "  6.95038680e-03  5.50743639e-02 -9.29974839e-02  5.90188317e-02\n",
      " -3.22244018e-02  4.17331643e-02 -5.34524545e-02  9.48453769e-02\n",
      " -3.67624983e-02  7.65670314e-02  2.85984594e-02 -1.28667280e-02\n",
      "  1.21352673e-02  6.82186037e-02 -3.34004429e-03 -4.00494449e-02\n",
      " -2.83496622e-02  4.33109747e-03  8.40720814e-03  7.65860006e-02\n",
      "  5.80230020e-02 -4.33161631e-02  1.34791657e-01  2.22055018e-02\n",
      "  6.36262000e-02 -1.07388206e-01 -2.27244105e-02 -3.52440216e-02\n",
      " -3.31713283e-03  9.92222037e-03 -6.97640851e-02 -4.88954857e-02\n",
      "  5.93874045e-02  1.84224779e-03  3.31217125e-02  1.66484192e-02\n",
      "  1.97625272e-02  8.33616033e-02  5.01468126e-03  1.74870621e-02\n",
      "  1.58554092e-02  1.22138429e-02  4.89566065e-02  6.25748038e-02\n",
      " -8.62681121e-03 -7.85024688e-02  2.42423005e-02  1.72746684e-02\n",
      " -1.05522368e-02 -4.27018143e-02 -4.34012190e-02  3.20120342e-02\n",
      " -3.11651397e-02 -3.45636606e-02 -8.92171054e-04 -3.79199423e-02\n",
      " -8.86814762e-03  8.40851739e-02  1.43022209e-01 -2.92520467e-02]\n",
      "################################\n",
      "['2 Gene Therapy\\nIf a person is born with a hereditary disease, can a corrective therapy\\nbe taken for such a disease? Gene therapy is an attempt to do this.\\nGene therapy is a collection of methods that allows correction of a\\ngene defect that has been diagnosed in a child/embryo. Here genes\\nare inserted into a person’s  cells and tissues to treat a disease.\\nCorrection of a genetic defect involves delivery of a normal gene into\\nthe individual or embryo to take over the function of and compensate\\nfor the non-functional gene.\\nThe first clinical gene therapy was given in 1990 to a 4-year old girl\\nwith adenosine deaminase (ADA) deficiency. This enzyme is crucial for\\nthe immune system to function. The disorder is caused due to the deletion\\nof the gene for adenosine deaminase. In some children ADA deficiency\\ncan be cured by bone marrow transplantation; in others it can be treated\\nby enzyme replacement therapy, in which functional ADA is given to the\\npatient by injection. But the problem with both of these approaches that\\nthey are not completely curative.', ' Since the recombinant therapeutics\\nare identical to human proteins, they do not induce unwanted\\nimmunological responses and are free from risk of infection as was\\nobserved in case of similar products isolated from non-human sources.\\nHuman insulin is made in bacteria yet its structure is absolutely\\nidentical to that of the natural molecule.\\nTransgenic animals are also used to understand how genes\\ncontribute to the development of a disease by serving as models for\\nhuman diseases, such as cancer , cystic fibr osis, r heumatoid arthritis\\nand Alzheimer’s.\\nGene therapy is the insertion of genes into an individual’s cells\\nand tissues to treat diseases especially hereditary diseases. It does\\nso by replacing a defective mutant allele with a functional one or\\ngene targeting which involves gene amplification. Viruses that attack\\ntheir hosts and introduce their genetic material into the host cell as\\npart of their replication cycle are used as vectors to transfer healthy\\ngenes or more recently portions of genes.\\nThe current interest in the manipulation of microbes, plants, and\\nanimals has raised serious ethical questions.', ' Techniques\\nof tissue culture and somatic hybridisation offer vast potential for\\nmanipulation of plants in vitro  to produce new varieties. Recombinant\\nDNA technology has made it possible to engineer microbes, plants\\nand animals such that they have novel capabilities. Genetically\\nModified Organisms have been created by using methods other than\\nnatural methods to transfer one or more genes from one organism to\\nanother , generally using techniques such as r ecombinant DNA\\ntechnology.\\nGM plants have been useful in increasing crop yields, reduce post-\\nharvest losses and make crops more tolerant of stresses. There are\\nseveral GM crop plants with improved nutritional value of foods and\\nreduced the reliance on chemical pesticides (pest-resistant crops).\\nRecombinant DNA technological processes have made immense\\nimpact in the area of healthcare by enabling mass production of safe\\nand more effective therapeutics. Since the recombinant therapeutics\\nare identical to human proteins, they do not induce unwanted\\nimmunological responses and are free from risk of infection as was\\nobserved in case of similar products isolated from ', 'some children ADA deficiency\\ncan be cured by bone marrow transplantation; in others it can be treated\\nby enzyme replacement therapy, in which functional ADA is given to the\\npatient by injection. But the problem with both of these approaches that\\nthey are not completely curative. As a first step towards gene therapy,\\nlymphocytes from the blood of the patient are grown in a culture outside\\nthe body. A functional ADA cDNA (using a retroviral vector) is then\\nintroduced into these lymphocytes, which are  subsequently returned to\\nthe patient. However , as these cells ar e not immortal, the patient r equir es\\nperiodic infusion of such genetically engineer ed lymphocytes. However , if\\nthe gene isolate from marrow cells producing ADA is introduced into cells\\nat early embryonic stages, it could be a permanent cure.\\n10.2.3 Molecular Diagnosis\\nYou know that for ef fective treatment of a disease, early diagnosis and\\nunderstanding its pathophysiology is very important.  Using conventional\\nmethods of diagnosis (serum and urine analysis, etc.) early detection isFigure 10.3 Maturation of\\npro-insulin into insulin\\n(simplified)\\nRationalised 2023-24\\n183BIOTECHNOLOGY AND ITS APPLICATIONS\\nnot possible.', '\\nA single stranded DNA or RNA, tagged with a radioactive molecule\\n(probe) is allowed to hybridise to its complementary DNA in a clone of\\ncells followed by detection using autoradiography. The clone having the\\nmutated gene will hence not appear on the photographic film, because\\nthe probe will not have complementarity with the mutated gene.\\nELISA is based on the principle of antigen-antibody interaction.\\nInfection by pathogen can be detected by the presence of antigens\\n(proteins, glycoproteins, etc.) or by detecting the antibodies synthesised\\nagainst the pathogen.\\n10.3 TRANSGENIC  ANIMALS\\nAnimals that have had their DNA manipulated to possess and express an\\nextra (foreign) gene ar e known as transgenic animals. T ransgenic rats,\\nrabbits, pigs, sheep, cows and fish have been produced, although over\\n95 per cent of all existing transgenic animals are mice. Why are these\\nanimals being produced? How can man benefit from such modifications ?\\nLet us try and explore some of the common reasons:\\n(i)Normal physiology and development:\\n Transgenic animals can\\nbe specifically designed to allow the study of how genes are\\nregulated, and how they affect ']\n",
      "#################################\n",
      "['BIOTECH.pdf', 'BIOTECH.pdf', 'BIOTECH.pdf', 'BIOTECH.pdf', 'BIOTECH.pdf']\n",
      "#################################\n",
      "['BIOTECH-5.pdf', 'BIOTECH-9.pdf', 'BIOTECH-9.pdf', 'BIOTECH-5.pdf', 'BIOTECH-6.pdf']\n",
      "#################################\n",
      "[]\n",
      "#################################\n"
     ]
    }
   ],
   "source": [
    "results_to_return, \\\n",
    "metadata_source_filename_to_return, \\\n",
    "metadata_source_page_to_return, \\\n",
    "reranker_score_to_return = search.get_search_results(user_input=query,CATEGORY=\"\")"
   ]
  },
  {
   "cell_type": "code",
   "execution_count": 34,
   "metadata": {},
   "outputs": [
    {
     "data": {
      "text/plain": [
       "['BIOTECH.pdf', 'BIOTECH.pdf', 'BIOTECH.pdf', 'BIOTECH.pdf', 'BIOTECH.pdf']"
      ]
     },
     "execution_count": 34,
     "metadata": {},
     "output_type": "execute_result"
    }
   ],
   "source": [
    "metadata_source_filename_to_return"
   ]
  },
  {
   "cell_type": "code",
   "execution_count": 35,
   "metadata": {},
   "outputs": [
    {
     "data": {
      "text/plain": [
       "['BIOTECH-5.pdf',\n",
       " 'BIOTECH-9.pdf',\n",
       " 'BIOTECH-9.pdf',\n",
       " 'BIOTECH-5.pdf',\n",
       " 'BIOTECH-6.pdf']"
      ]
     },
     "execution_count": 35,
     "metadata": {},
     "output_type": "execute_result"
    }
   ],
   "source": [
    "metadata_source_page_to_return"
   ]
  },
  {
   "cell_type": "code",
   "execution_count": 36,
   "metadata": {},
   "outputs": [
    {
     "data": {
      "text/plain": [
       "[]"
      ]
     },
     "execution_count": 36,
     "metadata": {},
     "output_type": "execute_result"
    }
   ],
   "source": [
    "reranker_score_to_return"
   ]
  },
  {
   "cell_type": "code",
   "execution_count": 37,
   "metadata": {},
   "outputs": [
    {
     "data": {
      "text/plain": [
       "'2 Gene Therapy\\nIf a person is born with a hereditary disease, can a corrective therapy\\nbe taken for such a disease? Gene therapy is an attempt to do this.\\nGene therapy is a collection of methods that allows correction of a\\ngene defect that has been diagnosed in a child/embryo. Here genes\\nare inserted into a person’s  cells and tissues to treat a disease.\\nCorrection of a genetic defect involves delivery of a normal gene into\\nthe individual or embryo to take over the function of and compensate\\nfor the non-functional gene.\\nThe first clinical gene therapy was given in 1990 to a 4-year old girl\\nwith adenosine deaminase (ADA) deficiency. This enzyme is crucial for\\nthe immune system to function. The disorder is caused due to the deletion\\nof the gene for adenosine deaminase. In some children ADA deficiency\\ncan be cured by bone marrow transplantation; in others it can be treated\\nby enzyme replacement therapy, in which functional ADA is given to the\\npatient by injection. But the problem with both of these approaches that\\nthey are not completely curative.'"
      ]
     },
     "execution_count": 37,
     "metadata": {},
     "output_type": "execute_result"
    }
   ],
   "source": [
    "results_to_return[0]"
   ]
  },
  {
   "cell_type": "code",
   "execution_count": 38,
   "metadata": {},
   "outputs": [],
   "source": [
    "def get_reply(user_input, content):\n",
    "\n",
    "    azure_open_ai_manager = AzureOpenAIManager(\n",
    "                    endpoint=AZURE_OPENAI_ENDPOINT,\n",
    "                    api_key=AZURE_OPENAI_KEY,\n",
    "                    deployment_id=AZURE_OPENAI_DEPLOYMENT_ID,\n",
    "                    api_version=\"2023-05-15\"\n",
    "                )\n",
    "    \n",
    "    conversation=[{\"role\": \"system\", \"content\": \"If the answer is not found within the context, please mention \\\n",
    "        that the answer is not found \\\n",
    "        Do not answer anything which is not in the context\"}]\n",
    "    reply = azure_open_ai_manager.generate_reply_from_context(user_input, content, conversation)\n",
    "    return reply"
   ]
  },
  {
   "cell_type": "code",
   "execution_count": 39,
   "metadata": {},
   "outputs": [],
   "source": [
    "azure_blob_helper = AzureBlobHelper(AZ_ST_ACC_NAME,\n",
    "                                    AZ_ST_ACC_KEY,\n",
    "                                    AZ_ST_CONTAINER_NAME)"
   ]
  },
  {
   "cell_type": "code",
   "execution_count": 40,
   "metadata": {},
   "outputs": [],
   "source": [
    "context = \"\\n\".join(results_to_return)\n",
    "reply = get_reply(query, context)\n",
    "\n",
    "URLs = []\n",
    "\n",
    "reranker_confidence = \"\"\n",
    "\n",
    "for page in metadata_source_page_to_return:\n",
    "    URLs.append(azure_blob_helper.generate_sas_url(page))\n"
   ]
  },
  {
   "cell_type": "code",
   "execution_count": 41,
   "metadata": {},
   "outputs": [
    {
     "data": {
      "text/plain": [
       "('Gene therapy is a collection of methods that allows correction of a gene defect that has been diagnosed in a child/embryo. It involves the insertion of genes into an individual’s cells and tissues to treat diseases, especially hereditary diseases. The goal of gene therapy is to replace a defective mutant allele with a functional one or to target specific genes for amplification. Viruses are often used as vectors to transfer healthy genes or portions of genes into the host cells. The first clinical gene therapy was given in 1990 to a 4-year-old girl with adenosine deaminase (ADA) deficiency.',\n",
       " 1407,\n",
       " 1285,\n",
       " 122)"
      ]
     },
     "execution_count": 41,
     "metadata": {},
     "output_type": "execute_result"
    }
   ],
   "source": [
    "reply"
   ]
  },
  {
   "cell_type": "code",
   "execution_count": null,
   "metadata": {},
   "outputs": [],
   "source": []
  }
 ],
 "metadata": {
  "kernelspec": {
   "display_name": ".venv",
   "language": "python",
   "name": "python3"
  },
  "language_info": {
   "codemirror_mode": {
    "name": "ipython",
    "version": 3
   },
   "file_extension": ".py",
   "mimetype": "text/x-python",
   "name": "python",
   "nbconvert_exporter": "python",
   "pygments_lexer": "ipython3",
   "version": "3.11.6"
  }
 },
 "nbformat": 4,
 "nbformat_minor": 2
}
