{
 "cells": [
  {
   "cell_type": "code",
   "execution_count": 1,
   "metadata": {},
   "outputs": [],
   "source": [
    "import sys\n",
    "sys.path.append('..')\n",
    "\n",
    "#ignore warnings\n",
    "import warnings\n",
    "warnings.filterwarnings(\"ignore\")"
   ]
  },
  {
   "cell_type": "code",
   "execution_count": 2,
   "metadata": {},
   "outputs": [],
   "source": [
    "from config_notebooks import *\n",
    "from pprint import pprint\n",
    "from azureopenaimanager.azureopenai_helper import *"
   ]
  },
  {
   "cell_type": "code",
   "execution_count": 3,
   "metadata": {},
   "outputs": [],
   "source": [
    "azure_open_ai_manager = AzureOpenAIManager(\n",
    "                    endpoint=AZURE_OPENAI_ENDPOINT,\n",
    "                    api_key=AZURE_OPENAI_KEY,\n",
    "                    deployment_id=AZURE_OPENAI_DEPLOYMENT_ID,\n",
    "                    api_version=\"2023-05-15\"\n",
    "                )"
   ]
  },
  {
   "cell_type": "code",
   "execution_count": 4,
   "metadata": {},
   "outputs": [],
   "source": [
    "def get_reply(user_input, content):\n",
    "    conversation=[{ \"role\": \"system\",\n",
    "  \"content\": \"Please generate two questions based \\\n",
    "        on the provided context. Each question must have \\\n",
    "              four options (A, B, C, D) and include the correct answer. \\\n",
    "              \"}]\n",
    "    reply = azure_open_ai_manager.generate_reply_from_context(user_input, content, conversation)\n",
    "    return reply"
   ]
  },
  {
   "cell_type": "code",
   "execution_count": 5,
   "metadata": {},
   "outputs": [],
   "source": [
    "query = \"\"\" \n",
    "\"Based on the provided context , please generate two multiple choice questions. \\\n",
    "    Please provide the output in json format\"\n",
    "\n",
    "\"\"\""
   ]
  },
  {
   "cell_type": "code",
   "execution_count": 6,
   "metadata": {},
   "outputs": [],
   "source": [
    "context = \"\"\" \n",
    "Bacteria are the sole members of the Kingdom Monera. They are the most\n",
    "abundant micro-organisms. Bacteria occur almost everywhere. Hundreds\n",
    "of bacteria are present in a handful of soil. They also live in extreme habitats\n",
    "such as hot springs, deserts, snow and deep oceans where very few other\n",
    "life forms can survive. Many of them live in or on other organisms as\n",
    "parasites.\n",
    "Bacteria are grouped under four categories based on their shape: the\n",
    "spherical Coccus (pl.: cocci), the rod-shaped Bacillus (pl.: bacilli), the\n",
    "comma-shaped Vibrium (pl.: vibrio) and the spiral Spirillum (pl.: spirilla)\n",
    "(Figure 2.1).\n",
    "\n",
    "Though the bacterial structure is very simple, they are very complex\n",
    "in behaviour. Compared to many other organisms, bacteria as a group\n",
    "show the most extensive metabolic diversity. Some of the bacteria are\n",
    "autotrophic, i.e., they synthesise their own food from inorganic substrates.\n",
    "They may be photosynthetic autotrophic or chemosynthetic autotrophic.\n",
    "The vast majority of bacteria are heterotrophs, i.e., they depend on other\n",
    "organisms or on dead organic matter for food.\n",
    "\n",
    "\"\"\""
   ]
  },
  {
   "cell_type": "code",
   "execution_count": 7,
   "metadata": {},
   "outputs": [
    {
     "data": {
      "text/plain": [
       "'```json\\n{\\n  \"questions\": [\\n    {\\n      \"question\": \"What are the four categories of bacteria based on their shape?\",\\n      \"options\": {\\n        \"A\": \"Spherical, Rod-shaped, Cubical, Spiral\",\\n        \"B\": \"Spherical, Rod-shaped, Comma-shaped, Spiral\",\\n        \"C\": \"Circular, Rod-shaped, Comma-shaped, Helical\",\\n        \"D\": \"Spherical, Rod-shaped, Oval, Spiral\"\\n      },\\n      \"answer\": \"B\"\\n    },\\n    {\\n      \"question\": \"What is the metabolic diversity of bacteria?\",\\n      \"options\": {\\n        \"A\": \"Limited metabolic diversity\",\\n        \"B\": \"No metabolic diversity\",\\n        \"C\": \"Extensive metabolic diversity\",\\n        \"D\": \"Moderate metabolic diversity\"\\n      },\\n      \"answer\": \"C\"\\n    }\\n  ]\\n}\\n```'"
      ]
     },
     "execution_count": 7,
     "metadata": {},
     "output_type": "execute_result"
    }
   ],
   "source": [
    "reply = get_reply(query, context)\n",
    "reply[0]"
   ]
  },
  {
   "cell_type": "code",
   "execution_count": 8,
   "metadata": {},
   "outputs": [],
   "source": [
    "output = reply[0].replace(\"```json\",\"\").replace(\"\\n\",\"\").replace(\"```\",\"\")"
   ]
  },
  {
   "cell_type": "code",
   "execution_count": 9,
   "metadata": {},
   "outputs": [
    {
     "data": {
      "text/plain": [
       "'{  \"questions\": [    {      \"question\": \"What are the four categories of bacteria based on their shape?\",      \"options\": {        \"A\": \"Spherical, Rod-shaped, Cubical, Spiral\",        \"B\": \"Spherical, Rod-shaped, Comma-shaped, Spiral\",        \"C\": \"Circular, Rod-shaped, Comma-shaped, Helical\",        \"D\": \"Spherical, Rod-shaped, Oval, Spiral\"      },      \"answer\": \"B\"    },    {      \"question\": \"What is the metabolic diversity of bacteria?\",      \"options\": {        \"A\": \"Limited metabolic diversity\",        \"B\": \"No metabolic diversity\",        \"C\": \"Extensive metabolic diversity\",        \"D\": \"Moderate metabolic diversity\"      },      \"answer\": \"C\"    }  ]}'"
      ]
     },
     "execution_count": 9,
     "metadata": {},
     "output_type": "execute_result"
    }
   ],
   "source": [
    "output"
   ]
  },
  {
   "cell_type": "code",
   "execution_count": 10,
   "metadata": {},
   "outputs": [],
   "source": [
    "import json"
   ]
  },
  {
   "cell_type": "code",
   "execution_count": 11,
   "metadata": {},
   "outputs": [],
   "source": [
    "result = json.loads(output)"
   ]
  },
  {
   "cell_type": "code",
   "execution_count": 12,
   "metadata": {},
   "outputs": [
    {
     "data": {
      "text/plain": [
       "{'questions': [{'question': 'What are the four categories of bacteria based on their shape?',\n",
       "   'options': {'A': 'Spherical, Rod-shaped, Cubical, Spiral',\n",
       "    'B': 'Spherical, Rod-shaped, Comma-shaped, Spiral',\n",
       "    'C': 'Circular, Rod-shaped, Comma-shaped, Helical',\n",
       "    'D': 'Spherical, Rod-shaped, Oval, Spiral'},\n",
       "   'answer': 'B'},\n",
       "  {'question': 'What is the metabolic diversity of bacteria?',\n",
       "   'options': {'A': 'Limited metabolic diversity',\n",
       "    'B': 'No metabolic diversity',\n",
       "    'C': 'Extensive metabolic diversity',\n",
       "    'D': 'Moderate metabolic diversity'},\n",
       "   'answer': 'C'}]}"
      ]
     },
     "execution_count": 12,
     "metadata": {},
     "output_type": "execute_result"
    }
   ],
   "source": [
    "result"
   ]
  },
  {
   "cell_type": "code",
   "execution_count": null,
   "metadata": {},
   "outputs": [],
   "source": []
  }
 ],
 "metadata": {
  "kernelspec": {
   "display_name": ".venv",
   "language": "python",
   "name": "python3"
  },
  "language_info": {
   "codemirror_mode": {
    "name": "ipython",
    "version": 3
   },
   "file_extension": ".py",
   "mimetype": "text/x-python",
   "name": "python",
   "nbconvert_exporter": "python",
   "pygments_lexer": "ipython3",
   "version": "3.11.6"
  }
 },
 "nbformat": 4,
 "nbformat_minor": 2
}
