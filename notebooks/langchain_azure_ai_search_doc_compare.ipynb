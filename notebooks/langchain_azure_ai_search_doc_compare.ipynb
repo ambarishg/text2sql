{
 "cells": [
  {
   "cell_type": "code",
   "execution_count": null,
   "metadata": {},
   "outputs": [],
   "source": [
    "import os\n",
    "\n",
    "from langchain_community.retrievers import (\n",
    "    AzureAISearchRetriever,\n",
    ")\n",
    "\n",
    "from config_notebooks import *\n",
    "from langchain.agents import AgentType, initialize_agent\n",
    "from pprint import pprint\n",
    "\n",
    "from langchain.chains import RetrievalQA\n",
    "from langchain_core.tools import Tool\n",
    "from langchain_core.pydantic_v1 import BaseModel, Field\n",
    "\n",
    "from langchain.chat_models import AzureChatOpenAI"
   ]
  },
  {
   "cell_type": "code",
   "execution_count": null,
   "metadata": {},
   "outputs": [],
   "source": [
    "files_list = ['AGL.pdf','coca-cola-business-sustainability-report-2022.pdf']\n",
    "action_input = 'Scope 3 emissions'"
   ]
  },
  {
   "cell_type": "code",
   "execution_count": null,
   "metadata": {},
   "outputs": [],
   "source": [
    "\n",
    "class DocumentInput(BaseModel):\n",
    "    question: str = Field()\n",
    "    \n",
    "os.environ[\"AZURE_AI_SEARCH_SERVICE_NAME\"] = AZURE_SEARCH_SERVICE_ENDPOINT\n",
    "os.environ[\"AZURE_AI_SEARCH_INDEX_NAME\"] = AZURE_SEARCH_INDEX_NAME\n",
    "os.environ[\"AZURE_AI_SEARCH_API_KEY\"] = AZURE_SEARCH_ADMIN_KEY\n",
    "os.environ[\"AZURE_OPENAI_API_KEY\"] =AZURE_OPENAI_KEY\n",
    "os.environ[\"AZURE_OPENAI_ENDPOINT\"] =AZURE_OPENAI_ENDPOINT\n",
    "os.environ[\"OPENAI_API_VERSION\"] = \"2023-05-15\""
   ]
  },
  {
   "cell_type": "code",
   "execution_count": null,
   "metadata": {},
   "outputs": [],
   "source": [
    "\n",
    "tools = []\n",
    "llm = AzureChatOpenAI(azure_deployment=AZURE_OPENAI_DEPLOYMENT_GPT_4O_ID,\n",
    "                      temperature=0)\n",
    "\n",
    "for file in files_list:\n",
    "    file_name = file.split('.')[0]\n",
    "    retriever = AzureAISearchRetriever(\n",
    "    content_key=\"content\", top_k=3, index_name=AZURE_SEARCH_INDEX_NAME,\n",
    "    filter=\"sourcepage eq '{}'\".format(file_name))\n",
    "    \n",
    "    tool = Tool(\n",
    "    args_schema=DocumentInput,\n",
    "            name=file_name,\n",
    "            description=f\"useful when you want to answer questions about {file_name}\",\n",
    "            func=RetrievalQA.from_chain_type(llm=llm, retriever=retriever),\n",
    "        )\n",
    "    tools.append(tool)\n",
    "\n",
    "agent = initialize_agent(\n",
    "    agent=AgentType.OPENAI_FUNCTIONS,\n",
    "    tools=tools,\n",
    "    llm=llm,\n",
    "    verbose=True,\n",
    ")\n",
    "action_input_prompt = \"Compare \" + action_input + \" in \"\n",
    "for file in files_list:\n",
    "    file_name = file.split('.')[0]\n",
    "    action_input_prompt += file_name + \",\"   \n",
    "\n",
    "pprint(action_input_prompt)\n",
    "pprint(\"^^^^^^^^^^^^^^^^^^^^^^^^^^\")\n",
    "results = agent({\"input\": action_input_prompt})"
   ]
  },
  {
   "cell_type": "code",
   "execution_count": null,
   "metadata": {},
   "outputs": [],
   "source": [
    "\n",
    "pprint(results[\"output\"])"
   ]
  }
 ],
 "metadata": {
  "kernelspec": {
   "display_name": ".venv",
   "language": "python",
   "name": "python3"
  },
  "language_info": {
   "codemirror_mode": {
    "name": "ipython",
    "version": 3
   },
   "file_extension": ".py",
   "mimetype": "text/x-python",
   "name": "python",
   "nbconvert_exporter": "python",
   "pygments_lexer": "ipython3",
   "version": "3.11.6"
  }
 },
 "nbformat": 4,
 "nbformat_minor": 2
}
