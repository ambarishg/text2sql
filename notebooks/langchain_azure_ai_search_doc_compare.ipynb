{
 "cells": [
  {
   "cell_type": "code",
   "execution_count": 23,
   "metadata": {},
   "outputs": [],
   "source": [
    "import os\n",
    "\n",
    "from langchain_community.retrievers import (\n",
    "    AzureAISearchRetriever,\n",
    ")\n",
    "\n",
    "from config_notebooks import *\n",
    "from langchain.agents import AgentType, initialize_agent\n",
    "from pprint import pprint\n",
    "\n",
    "from langchain.chains import RetrievalQA\n",
    "from langchain_core.tools import Tool\n",
    "from langchain_core.pydantic_v1 import BaseModel, Field\n",
    "\n",
    "from langchain.chat_models import AzureChatOpenAI"
   ]
  },
  {
   "cell_type": "code",
   "execution_count": 24,
   "metadata": {},
   "outputs": [],
   "source": [
    "action_input = \"Compare green house gas emissions in Chap02,Chap09\"\n",
    "action_input = \"Compare Scope 3 approach in Chap02,Chap09\""
   ]
  },
  {
   "cell_type": "code",
   "execution_count": 25,
   "metadata": {},
   "outputs": [],
   "source": [
    "os.environ[\"AZURE_AI_SEARCH_SERVICE_NAME\"] = AZURE_SEARCH_SERVICE_ENDPOINT\n",
    "os.environ[\"AZURE_AI_SEARCH_INDEX_NAME\"] = AZURE_SEARCH_INDEX_NAME\n",
    "os.environ[\"AZURE_AI_SEARCH_API_KEY\"] = AZURE_SEARCH_ADMIN_KEY"
   ]
  },
  {
   "cell_type": "code",
   "execution_count": 26,
   "metadata": {},
   "outputs": [],
   "source": [
    "retriever_02 = AzureAISearchRetriever(\n",
    "    content_key=\"content\", top_k=3, index_name=AZURE_SEARCH_INDEX_NAME,\n",
    "    filter=\"sourcepage eq 'AGL.pdf'\"\n",
    ")\n",
    "retriever_09 = AzureAISearchRetriever(\n",
    "    content_key=\"content\", top_k=3, index_name=AZURE_SEARCH_INDEX_NAME,\n",
    "    filter=\"sourcepage eq 'coca-cola-business-sustainability-report-2022.pdf'\"\n",
    ")"
   ]
  },
  {
   "cell_type": "code",
   "execution_count": 27,
   "metadata": {},
   "outputs": [],
   "source": [
    "os.environ[\"AZURE_OPENAI_API_KEY\"] =AZURE_OPENAI_KEY\n",
    "os.environ[\"AZURE_OPENAI_ENDPOINT\"] =AZURE_OPENAI_ENDPOINT\n",
    "os.environ[\"OPENAI_API_VERSION\"] = \"2023-05-15\"\n"
   ]
  },
  {
   "cell_type": "code",
   "execution_count": 28,
   "metadata": {},
   "outputs": [],
   "source": [
    "llm = AzureChatOpenAI(azure_deployment=AZURE_OPENAI_DEPLOYMENT_GPT_4O_ID,temperature=0)"
   ]
  },
  {
   "cell_type": "code",
   "execution_count": 29,
   "metadata": {},
   "outputs": [],
   "source": [
    "class DocumentInput(BaseModel):\n",
    "    question: str = Field()"
   ]
  },
  {
   "cell_type": "code",
   "execution_count": 30,
   "metadata": {},
   "outputs": [],
   "source": [
    "FILE_NAME_02 = \"CHAP02\"\n",
    "FILE_NAME_09 = \"CHAP09\""
   ]
  },
  {
   "cell_type": "code",
   "execution_count": 31,
   "metadata": {},
   "outputs": [],
   "source": [
    "tool_02 = Tool(\n",
    "    args_schema=DocumentInput,\n",
    "            name=FILE_NAME_02,\n",
    "            description=f\"useful when you want to answer questions about {FILE_NAME_02}\",\n",
    "            func=RetrievalQA.from_chain_type(llm=llm, retriever=retriever_02),\n",
    "        )\n",
    "tool_09 = Tool(\n",
    "    args_schema=DocumentInput,\n",
    "            name=FILE_NAME_09,\n",
    "            description=f\"useful when you want to answer questions about {FILE_NAME_09}\",\n",
    "            func=RetrievalQA.from_chain_type(llm=llm, retriever=retriever_09),\n",
    "        )\n",
    "tools = [tool_02, tool_09]"
   ]
  },
  {
   "cell_type": "code",
   "execution_count": 32,
   "metadata": {},
   "outputs": [
    {
     "name": "stdout",
     "output_type": "stream",
     "text": [
      "\n",
      "\n",
      "\u001b[1m> Entering new AgentExecutor chain...\u001b[0m\n",
      "\u001b[32;1m\u001b[1;3m\n",
      "Invoking: `CHAP02` with `{'question': 'What is the Scope 3 approach?'}`\n",
      "\n",
      "\n",
      "\u001b[0m\u001b[36;1m\u001b[1;3m{'query': 'What is the Scope 3 approach?', 'result': \"The Scope 3 approach refers to a category within the Greenhouse Gas (GHG) Protocol that encompasses all indirect emissions that occur in a company's value chain, excluding those covered in Scope 2. Scope 3 emissions include all sources not within an organization’s direct control but related to its activities, such as emissions from purchased goods and services, business travel, employee commuting, waste disposal, and the use of sold products. This approach is crucial for companies aiming to understand and reduce their overall carbon footprint, as it often represents the largest portion of their total emissions.\"}\u001b[0m\u001b[32;1m\u001b[1;3m\n",
      "Invoking: `CHAP09` with `{'question': 'What is the Scope 3 approach?'}`\n",
      "\n",
      "\n",
      "\u001b[0m\u001b[33;1m\u001b[1;3m{'query': 'What is the Scope 3 approach?', 'result': \"The Scope 3 approach refers to a category within the Greenhouse Gas (GHG) Protocol that encompasses all indirect emissions that occur in a company's value chain. These emissions are not directly produced by the company itself but are a consequence of its activities. Scope 3 emissions can be divided into upstream and downstream activities, including:\\n\\n- Upstream activities: Emissions from purchased goods and services, capital goods, fuel- and energy-related activities (not included in Scope 1 or 2), transportation and distribution, waste generated in operations, business travel, employee commuting, and leased assets.\\n- Downstream activities: Emissions from transportation and distribution of sold products, processing of sold products, use of sold products, end-of-life treatment of sold products, leased assets, franchises, and investments.\\n\\nThe Scope 3 approach is crucial for companies aiming to understand and reduce their total carbon footprint, as it often represents the largest portion of their overall emissions.\"}\u001b[0m\u001b[32;1m\u001b[1;3mThe Scope 3 approach in both Chap02 and Chap09 refers to the category within the Greenhouse Gas (GHG) Protocol that encompasses all indirect emissions occurring in a company's value chain. However, there are some differences in the details provided by each chapter:\n",
      "\n",
      "### Chap02:\n",
      "- **Definition**: Scope 3 includes all indirect emissions not covered in Scope 2, related to a company's activities.\n",
      "- **Examples**: Emissions from purchased goods and services, business travel, employee commuting, waste disposal, and the use of sold products.\n",
      "- **Focus**: Emphasizes the importance of understanding and reducing the overall carbon footprint, as Scope 3 often represents the largest portion of total emissions.\n",
      "\n",
      "### Chap09:\n",
      "- **Definition**: Similar to Chap02, it includes all indirect emissions in a company's value chain.\n",
      "- **Categorization**: Divides Scope 3 emissions into upstream and downstream activities.\n",
      "  - **Upstream Activities**: Emissions from purchased goods and services, capital goods, fuel- and energy-related activities (not included in Scope 1 or 2), transportation and distribution, waste generated in operations, business travel, employee commuting, and leased assets.\n",
      "  - **Downstream Activities**: Emissions from transportation and distribution of sold products, processing of sold products, use of sold products, end-of-life treatment of sold products, leased assets, franchises, and investments.\n",
      "- **Focus**: Also highlights the importance of understanding and reducing the total carbon footprint, with a detailed breakdown of upstream and downstream activities.\n",
      "\n",
      "### Summary:\n",
      "- **Chap02** provides a general overview of Scope 3 emissions and their significance.\n",
      "- **Chap09** offers a more detailed categorization of Scope 3 emissions into upstream and downstream activities, providing specific examples for each category.\n",
      "\n",
      "Both chapters agree on the critical role of Scope 3 emissions in understanding and reducing a company's overall carbon footprint.\u001b[0m\n",
      "\n",
      "\u001b[1m> Finished chain.\u001b[0m\n"
     ]
    }
   ],
   "source": [
    "agent = initialize_agent(\n",
    "    agent=AgentType.OPENAI_FUNCTIONS,\n",
    "    tools=tools,\n",
    "    llm=llm,\n",
    "    verbose=True,\n",
    ")\n",
    "\n",
    "results = agent({\"input\": action_input})"
   ]
  },
  {
   "cell_type": "code",
   "execution_count": 33,
   "metadata": {},
   "outputs": [
    {
     "name": "stdout",
     "output_type": "stream",
     "text": [
      "('The Scope 3 approach in both Chap02 and Chap09 refers to the category within '\n",
      " 'the Greenhouse Gas (GHG) Protocol that encompasses all indirect emissions '\n",
      " \"occurring in a company's value chain. However, there are some differences in \"\n",
      " 'the details provided by each chapter:\\n'\n",
      " '\\n'\n",
      " '### Chap02:\\n'\n",
      " '- **Definition**: Scope 3 includes all indirect emissions not covered in '\n",
      " \"Scope 2, related to a company's activities.\\n\"\n",
      " '- **Examples**: Emissions from purchased goods and services, business '\n",
      " 'travel, employee commuting, waste disposal, and the use of sold products.\\n'\n",
      " '- **Focus**: Emphasizes the importance of understanding and reducing the '\n",
      " 'overall carbon footprint, as Scope 3 often represents the largest portion of '\n",
      " 'total emissions.\\n'\n",
      " '\\n'\n",
      " '### Chap09:\\n'\n",
      " '- **Definition**: Similar to Chap02, it includes all indirect emissions in a '\n",
      " \"company's value chain.\\n\"\n",
      " '- **Categorization**: Divides Scope 3 emissions into upstream and downstream '\n",
      " 'activities.\\n'\n",
      " '  - **Upstream Activities**: Emissions from purchased goods and services, '\n",
      " 'capital goods, fuel- and energy-related activities (not included in Scope 1 '\n",
      " 'or 2), transportation and distribution, waste generated in operations, '\n",
      " 'business travel, employee commuting, and leased assets.\\n'\n",
      " '  - **Downstream Activities**: Emissions from transportation and '\n",
      " 'distribution of sold products, processing of sold products, use of sold '\n",
      " 'products, end-of-life treatment of sold products, leased assets, franchises, '\n",
      " 'and investments.\\n'\n",
      " '- **Focus**: Also highlights the importance of understanding and reducing '\n",
      " 'the total carbon footprint, with a detailed breakdown of upstream and '\n",
      " 'downstream activities.\\n'\n",
      " '\\n'\n",
      " '### Summary:\\n'\n",
      " '- **Chap02** provides a general overview of Scope 3 emissions and their '\n",
      " 'significance.\\n'\n",
      " '- **Chap09** offers a more detailed categorization of Scope 3 emissions into '\n",
      " 'upstream and downstream activities, providing specific examples for each '\n",
      " 'category.\\n'\n",
      " '\\n'\n",
      " 'Both chapters agree on the critical role of Scope 3 emissions in '\n",
      " \"understanding and reducing a company's overall carbon footprint.\")\n"
     ]
    }
   ],
   "source": [
    "pprint(results[\"output\"])"
   ]
  },
  {
   "cell_type": "code",
   "execution_count": null,
   "metadata": {},
   "outputs": [],
   "source": []
  }
 ],
 "metadata": {
  "kernelspec": {
   "display_name": ".venv",
   "language": "python",
   "name": "python3"
  },
  "language_info": {
   "codemirror_mode": {
    "name": "ipython",
    "version": 3
   },
   "file_extension": ".py",
   "mimetype": "text/x-python",
   "name": "python",
   "nbconvert_exporter": "python",
   "pygments_lexer": "ipython3",
   "version": "3.11.6"
  }
 },
 "nbformat": 4,
 "nbformat_minor": 2
}
