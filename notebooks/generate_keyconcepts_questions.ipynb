{
 "cells": [
  {
   "cell_type": "code",
   "execution_count": 26,
   "metadata": {},
   "outputs": [],
   "source": [
    "import sys\n",
    "sys.path.append('..')\n",
    "\n",
    "#ignore warnings\n",
    "import warnings\n",
    "warnings.filterwarnings(\"ignore\")"
   ]
  },
  {
   "cell_type": "code",
   "execution_count": 27,
   "metadata": {},
   "outputs": [],
   "source": [
    "from config_notebooks import *\n",
    "from pprint import pprint\n",
    "from azureopenaimanager.azureopenai_helper import *"
   ]
  },
  {
   "cell_type": "code",
   "execution_count": 28,
   "metadata": {},
   "outputs": [],
   "source": [
    "azure_open_ai_manager = AzureOpenAIManager(\n",
    "                    endpoint=AZURE_OPENAI_ENDPOINT,\n",
    "                    api_key=AZURE_OPENAI_KEY,\n",
    "                    deployment_id=AZURE_OPENAI_DEPLOYMENT_ID,\n",
    "                    api_version=\"2023-05-15\"\n",
    "                )"
   ]
  },
  {
   "cell_type": "code",
   "execution_count": 29,
   "metadata": {},
   "outputs": [],
   "source": [
    "number_of_questions = 2"
   ]
  },
  {
   "cell_type": "code",
   "execution_count": 30,
   "metadata": {},
   "outputs": [],
   "source": [
    "conversation_content = f\"Please generate \\\n",
    "{number_of_questions} questions \\\n",
    "based on the provided context. \\\n",
    "Each question must have four options (1,2,3,4) \\\n",
    "and include the correct answer.\""
   ]
  },
  {
   "cell_type": "code",
   "execution_count": null,
   "metadata": {},
   "outputs": [],
   "source": [
    "conversation_content"
   ]
  },
  {
   "cell_type": "code",
   "execution_count": 32,
   "metadata": {},
   "outputs": [],
   "source": [
    "def get_reply(user_input, content):\n",
    "    conversation=[{ \"role\": \"system\",\n",
    "  \"content\": conversation_content\n",
    "              }]\n",
    "    reply = azure_open_ai_manager.generate_reply_from_context(user_input, content, conversation)\n",
    "    return reply"
   ]
  },
  {
   "cell_type": "code",
   "execution_count": 42,
   "metadata": {},
   "outputs": [],
   "source": [
    "query = \"\"\" \n",
    "Based on the provided context on the key concept of Heterotrophs\\\n",
    "please generate 2 multiple choice questions. \\\n",
    "1. The question should have the key question_name. \\\n",
    "3. The key for the correct answer should be answer. \\\n",
    "Please provide the output in json format. \\\n",
    "Example format is \\\n",
    "{'questions': [{'question': 'What is the primary source of food for heterotrophic bacteria?',\n",
    "   'options': {'1': 'Inorganic substrates',\n",
    "    '2': 'Photosynthesis',\n",
    "    '3': 'Other organisms or dead organic matter',\n",
    "    '4': 'Chemosynthesis'},\n",
    "   'answer': '3'},\n",
    "  ]}\n",
    "\"\"\""
   ]
  },
  {
   "cell_type": "code",
   "execution_count": 43,
   "metadata": {},
   "outputs": [],
   "source": [
    "context = \"\"\" \n",
    "Bacteria are the sole members of the Kingdom Monera. They are the most\n",
    "abundant micro-organisms. Bacteria occur almost everywhere. Hundreds\n",
    "of bacteria are present in a handful of soil. They also live in extreme habitats\n",
    "such as hot springs, deserts, snow and deep oceans where very few other\n",
    "life forms can survive. Many of them live in or on other organisms as\n",
    "parasites.\n",
    "Bacteria are grouped under four categories based on their shape: the\n",
    "spherical Coccus (pl.: cocci), the rod-shaped Bacillus (pl.: bacilli), the\n",
    "comma-shaped Vibrium (pl.: vibrio) and the spiral Spirillum (pl.: spirilla)\n",
    "(Figure 2.1).\n",
    "\n",
    "Though the bacterial structure is very simple, they are very complex\n",
    "in behaviour. Compared to many other organisms, bacteria as a group\n",
    "show the most extensive metabolic diversity. Some of the bacteria are\n",
    "autotrophic, i.e., they synthesise their own food from inorganic substrates.\n",
    "They may be photosynthetic autotrophic or chemosynthetic autotrophic.\n",
    "The vast majority of bacteria are heterotrophs, i.e., they depend on other\n",
    "organisms or on dead organic matter for food.\n",
    "\n",
    "\"\"\""
   ]
  },
  {
   "cell_type": "code",
   "execution_count": null,
   "metadata": {},
   "outputs": [],
   "source": [
    "reply = get_reply(query, context)\n",
    "reply[0][0]"
   ]
  },
  {
   "cell_type": "code",
   "execution_count": 45,
   "metadata": {},
   "outputs": [],
   "source": [
    "output = reply[0][0].replace(\"```json\",\"\").replace(\"\\n\",\"\").replace(\"```\",\"\")"
   ]
  },
  {
   "cell_type": "code",
   "execution_count": null,
   "metadata": {},
   "outputs": [],
   "source": [
    "output"
   ]
  },
  {
   "cell_type": "code",
   "execution_count": 47,
   "metadata": {},
   "outputs": [],
   "source": [
    "import json"
   ]
  },
  {
   "cell_type": "code",
   "execution_count": 48,
   "metadata": {},
   "outputs": [],
   "source": [
    "result = json.loads(output)"
   ]
  },
  {
   "cell_type": "code",
   "execution_count": null,
   "metadata": {},
   "outputs": [],
   "source": [
    "len(result)"
   ]
  },
  {
   "cell_type": "code",
   "execution_count": null,
   "metadata": {},
   "outputs": [],
   "source": [
    "result"
   ]
  },
  {
   "cell_type": "code",
   "execution_count": null,
   "metadata": {},
   "outputs": [],
   "source": [
    "len(result[\"questions\"])"
   ]
  },
  {
   "cell_type": "code",
   "execution_count": 52,
   "metadata": {},
   "outputs": [],
   "source": [
    "result_set_0 = result[\"questions\"][0]"
   ]
  },
  {
   "cell_type": "code",
   "execution_count": 53,
   "metadata": {},
   "outputs": [],
   "source": [
    "question = result[\"questions\"][0][\"question\"]"
   ]
  },
  {
   "cell_type": "code",
   "execution_count": null,
   "metadata": {},
   "outputs": [],
   "source": [
    "result_set_0[\"options\"]"
   ]
  },
  {
   "cell_type": "code",
   "execution_count": 55,
   "metadata": {},
   "outputs": [],
   "source": [
    "options_list = []"
   ]
  },
  {
   "cell_type": "code",
   "execution_count": null,
   "metadata": {},
   "outputs": [],
   "source": [
    "for item in result_set_0[\"options\"].values():\n",
    "    print(item)\n",
    "    options_list.append(item)"
   ]
  },
  {
   "cell_type": "code",
   "execution_count": null,
   "metadata": {},
   "outputs": [],
   "source": [
    "options_list"
   ]
  },
  {
   "cell_type": "code",
   "execution_count": null,
   "metadata": {},
   "outputs": [],
   "source": [
    "answer = int(result_set_0[\"answer\"])"
   ]
  },
  {
   "cell_type": "code",
   "execution_count": null,
   "metadata": {},
   "outputs": [],
   "source": [
    "answer"
   ]
  },
  {
   "cell_type": "code",
   "execution_count": null,
   "metadata": {},
   "outputs": [],
   "source": [
    "answer_return = \"option \" + str(answer-1)\n",
    "print(answer_return)"
   ]
  },
  {
   "cell_type": "code",
   "execution_count": 62,
   "metadata": {},
   "outputs": [],
   "source": [
    "    # question_type:str\n",
    "    # chapter_id:str\n",
    "    # question_name: str\n",
    "    # question_options: List[str]\n",
    "    # answer: str"
   ]
  }
 ],
 "metadata": {
  "kernelspec": {
   "display_name": ".venv",
   "language": "python",
   "name": "python3"
  },
  "language_info": {
   "codemirror_mode": {
    "name": "ipython",
    "version": 3
   },
   "file_extension": ".py",
   "mimetype": "text/x-python",
   "name": "python",
   "nbconvert_exporter": "python",
   "pygments_lexer": "ipython3",
   "version": "3.11.6"
  }
 },
 "nbformat": 4,
 "nbformat_minor": 2
}
