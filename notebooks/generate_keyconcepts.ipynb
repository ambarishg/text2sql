{
 "cells": [
  {
   "cell_type": "code",
   "execution_count": 1,
   "metadata": {},
   "outputs": [],
   "source": [
    "import sys\n",
    "sys.path.append('..')\n",
    "\n",
    "#ignore warnings\n",
    "import warnings\n",
    "warnings.filterwarnings(\"ignore\")"
   ]
  },
  {
   "cell_type": "code",
   "execution_count": 2,
   "metadata": {},
   "outputs": [],
   "source": [
    "from config_notebooks import *\n",
    "from pprint import pprint\n",
    "from azureopenaimanager.azureopenai_helper import *"
   ]
  },
  {
   "cell_type": "code",
   "execution_count": 3,
   "metadata": {},
   "outputs": [],
   "source": [
    "azure_open_ai_manager = AzureOpenAIManager(\n",
    "                    endpoint=AZURE_OPENAI_ENDPOINT,\n",
    "                    api_key=AZURE_OPENAI_KEY,\n",
    "                    deployment_id=AZURE_OPENAI_DEPLOYMENT_ID,\n",
    "                    api_version=\"2023-05-15\"\n",
    "                )"
   ]
  },
  {
   "cell_type": "code",
   "execution_count": 5,
   "metadata": {},
   "outputs": [],
   "source": [
    "conversation_content = f\"You are a helpful digital assistant for generating the answers in JSON\""
   ]
  },
  {
   "cell_type": "code",
   "execution_count": 6,
   "metadata": {},
   "outputs": [
    {
     "data": {
      "text/plain": [
       "'You are a helpful digital assistant for generating the answers in JSON'"
      ]
     },
     "execution_count": 6,
     "metadata": {},
     "output_type": "execute_result"
    }
   ],
   "source": [
    "conversation_content"
   ]
  },
  {
   "cell_type": "code",
   "execution_count": 7,
   "metadata": {},
   "outputs": [],
   "source": [
    "def get_reply(user_input, content):\n",
    "    conversation=[{ \"role\": \"system\",\n",
    "  \"content\": conversation_content\n",
    "              }]\n",
    "    reply = azure_open_ai_manager.generate_reply_from_context(user_input, content, conversation)\n",
    "    return reply"
   ]
  },
  {
   "cell_type": "code",
   "execution_count": 8,
   "metadata": {},
   "outputs": [],
   "source": [
    "query = \"\"\" \n",
    "Provide the key concepts in the provided context\n",
    "\"\"\""
   ]
  },
  {
   "cell_type": "code",
   "execution_count": 9,
   "metadata": {},
   "outputs": [],
   "source": [
    "context = \"\"\" \n",
    "Bacteria are the sole members of the Kingdom Monera. They are the most\n",
    "abundant micro-organisms. Bacteria occur almost everywhere. Hundreds\n",
    "of bacteria are present in a handful of soil. They also live in extreme habitats\n",
    "such as hot springs, deserts, snow and deep oceans where very few other\n",
    "life forms can survive. Many of them live in or on other organisms as\n",
    "parasites.\n",
    "Bacteria are grouped under four categories based on their shape: the\n",
    "spherical Coccus (pl.: cocci), the rod-shaped Bacillus (pl.: bacilli), the\n",
    "comma-shaped Vibrium (pl.: vibrio) and the spiral Spirillum (pl.: spirilla)\n",
    "(Figure 2.1).\n",
    "\n",
    "Though the bacterial structure is very simple, they are very complex\n",
    "in behaviour. Compared to many other organisms, bacteria as a group\n",
    "show the most extensive metabolic diversity. Some of the bacteria are\n",
    "autotrophic, i.e., they synthesise their own food from inorganic substrates.\n",
    "They may be photosynthetic autotrophic or chemosynthetic autotrophic.\n",
    "The vast majority of bacteria are heterotrophs, i.e., they depend on other\n",
    "organisms or on dead organic matter for food.\n",
    "\n",
    "\"\"\""
   ]
  },
  {
   "cell_type": "code",
   "execution_count": 10,
   "metadata": {},
   "outputs": [
    {
     "data": {
      "text/plain": [
       "'{\\n  \"key_concepts\": [\\n    \"Kingdom Monera\",\\n    \"Bacteria\",\\n    \"Micro-organisms\",\\n    \"Habitats\",\\n    \"Parasites\",\\n    \"Bacterial shape\",\\n    \"Metabolic diversity\",\\n    \"Autotrophic\",\\n    \"Heterotrophs\"\\n  ]\\n}'"
      ]
     },
     "execution_count": 10,
     "metadata": {},
     "output_type": "execute_result"
    }
   ],
   "source": [
    "reply = get_reply(query, context)\n",
    "reply[0][0]"
   ]
  },
  {
   "cell_type": "code",
   "execution_count": 11,
   "metadata": {},
   "outputs": [],
   "source": [
    "output = reply[0][0].replace(\"```json\",\"\").replace(\"\\n\",\"\").replace(\"```\",\"\")"
   ]
  },
  {
   "cell_type": "code",
   "execution_count": 12,
   "metadata": {},
   "outputs": [
    {
     "data": {
      "text/plain": [
       "'{  \"key_concepts\": [    \"Kingdom Monera\",    \"Bacteria\",    \"Micro-organisms\",    \"Habitats\",    \"Parasites\",    \"Bacterial shape\",    \"Metabolic diversity\",    \"Autotrophic\",    \"Heterotrophs\"  ]}'"
      ]
     },
     "execution_count": 12,
     "metadata": {},
     "output_type": "execute_result"
    }
   ],
   "source": [
    "output"
   ]
  },
  {
   "cell_type": "code",
   "execution_count": 13,
   "metadata": {},
   "outputs": [],
   "source": [
    "import json"
   ]
  },
  {
   "cell_type": "code",
   "execution_count": 14,
   "metadata": {},
   "outputs": [],
   "source": [
    "result = json.loads(output)"
   ]
  },
  {
   "cell_type": "code",
   "execution_count": 15,
   "metadata": {},
   "outputs": [
    {
     "data": {
      "text/plain": [
       "1"
      ]
     },
     "execution_count": 15,
     "metadata": {},
     "output_type": "execute_result"
    }
   ],
   "source": [
    "len(result)"
   ]
  },
  {
   "cell_type": "code",
   "execution_count": 17,
   "metadata": {},
   "outputs": [
    {
     "data": {
      "text/plain": [
       "9"
      ]
     },
     "execution_count": 17,
     "metadata": {},
     "output_type": "execute_result"
    }
   ],
   "source": [
    "len(result[\"key_concepts\"])"
   ]
  },
  {
   "cell_type": "code",
   "execution_count": 18,
   "metadata": {},
   "outputs": [
    {
     "data": {
      "text/plain": [
       "{'key_concepts': ['Kingdom Monera',\n",
       "  'Bacteria',\n",
       "  'Micro-organisms',\n",
       "  'Habitats',\n",
       "  'Parasites',\n",
       "  'Bacterial shape',\n",
       "  'Metabolic diversity',\n",
       "  'Autotrophic',\n",
       "  'Heterotrophs']}"
      ]
     },
     "execution_count": 18,
     "metadata": {},
     "output_type": "execute_result"
    }
   ],
   "source": [
    "result"
   ]
  },
  {
   "cell_type": "code",
   "execution_count": null,
   "metadata": {},
   "outputs": [],
   "source": []
  }
 ],
 "metadata": {
  "kernelspec": {
   "display_name": ".venv",
   "language": "python",
   "name": "python3"
  },
  "language_info": {
   "codemirror_mode": {
    "name": "ipython",
    "version": 3
   },
   "file_extension": ".py",
   "mimetype": "text/x-python",
   "name": "python",
   "nbconvert_exporter": "python",
   "pygments_lexer": "ipython3",
   "version": "3.11.6"
  }
 },
 "nbformat": 4,
 "nbformat_minor": 2
}
