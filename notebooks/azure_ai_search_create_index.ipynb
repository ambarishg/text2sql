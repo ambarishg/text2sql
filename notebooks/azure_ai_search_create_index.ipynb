{
 "cells": [
  {
   "cell_type": "code",
   "execution_count": 1,
   "metadata": {},
   "outputs": [],
   "source": [
    "import sys\n",
    "sys.path.append('..')"
   ]
  },
  {
   "cell_type": "code",
   "execution_count": 2,
   "metadata": {},
   "outputs": [
    {
     "name": "stderr",
     "output_type": "stream",
     "text": [
      "c:\\Ambarish\\text2sql\\.venv\\Lib\\site-packages\\sentence_transformers\\cross_encoder\\CrossEncoder.py:11: TqdmWarning: IProgress not found. Please update jupyter and ipywidgets. See https://ipywidgets.readthedocs.io/en/stable/user_install.html\n",
      "  from tqdm.autonotebook import tqdm, trange\n"
     ]
    }
   ],
   "source": [
    "from azure_ai_search.azure_ai_vector_search import CustomAzureSearch\n",
    "from config_notebooks import *"
   ]
  },
  {
   "cell_type": "code",
   "execution_count": 3,
   "metadata": {},
   "outputs": [],
   "source": [
    "# Create a new instance of the CustomAzureSearch class\n",
    "search = CustomAzureSearch(AZURE_SEARCH_SERVICE_ENDPOINT,\n",
    "                            AZURE_SEARCH_ADMIN_KEY,\n",
    "                            AZURE_SEARCH_INDEX_NAME,\n",
    "                            NUMBER_OF_RESULTS_TO_RETURN,\n",
    "                            NUMBER_OF_NEAR_NEIGHBORS,\n",
    "                            MODEL_NAME,\n",
    "                            EMBEDDING_FIELD_NAME,\n",
    "                            AZURE_SEARCH_SEMANTIC_CONFIG_NAME)"
   ]
  },
  {
   "cell_type": "code",
   "execution_count": 4,
   "metadata": {},
   "outputs": [
    {
     "name": "stdout",
     "output_type": "stream",
     "text": [
      "biology\n"
     ]
    }
   ],
   "source": [
    "print(AZURE_SEARCH_INDEX_NAME)"
   ]
  },
  {
   "cell_type": "code",
   "execution_count": 5,
   "metadata": {},
   "outputs": [
    {
     "name": "stdout",
     "output_type": "stream",
     "text": [
      "Create Index Result:  {'additional_properties': {}, 'name': 'biology', 'fields': [<azure.search.documents.indexes.models._index.SearchField object at 0x000001E6095A5210>, <azure.search.documents.indexes.models._index.SearchField object at 0x000001E661D77A50>, <azure.search.documents.indexes.models._index.SearchField object at 0x000001E60887EA50>, <azure.search.documents.indexes.models._index.SearchField object at 0x000001E661D448D0>, <azure.search.documents.indexes.models._index.SearchField object at 0x000001E608F27DD0>, <azure.search.documents.indexes.models._index.SearchField object at 0x000001E661D454D0>], 'scoring_profiles': [], 'default_scoring_profile': None, 'cors_options': None, 'suggesters': [], 'analyzers': None, 'tokenizers': None, 'token_filters': [], 'char_filters': [], 'encryption_key': None, 'similarity': <azure.search.documents.indexes._generated.models._models_py3.BM25Similarity object at 0x000001E60AD5BE50>, 'semantic_search': <azure.search.documents.indexes._generated.models._models_py3.SemanticSearch object at 0x000001E60AD8F7D0>, 'e_tag': '\"0x8DC9D6A26E5CE1F\"', 'vector_search': <azure.search.documents.indexes._generated.models._models_py3.VectorSearch object at 0x000001E60AD8F1D0>}\n"
     ]
    }
   ],
   "source": [
    "search.create_index()"
   ]
  }
 ],
 "metadata": {
  "kernelspec": {
   "display_name": ".venv",
   "language": "python",
   "name": "python3"
  },
  "language_info": {
   "codemirror_mode": {
    "name": "ipython",
    "version": 3
   },
   "file_extension": ".py",
   "mimetype": "text/x-python",
   "name": "python",
   "nbconvert_exporter": "python",
   "pygments_lexer": "ipython3",
   "version": "3.11.6"
  }
 },
 "nbformat": 4,
 "nbformat_minor": 2
}
