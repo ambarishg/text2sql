{
 "cells": [
  {
   "cell_type": "code",
   "execution_count": null,
   "metadata": {},
   "outputs": [],
   "source": [
    "import sys\n",
    "sys.path.append('..')"
   ]
  },
  {
   "cell_type": "code",
   "execution_count": null,
   "metadata": {},
   "outputs": [],
   "source": [
    "from azure_ai_search.azure_ai_vector_search import CustomAzureSearch\n",
    "from config_notebooks import *"
   ]
  },
  {
   "cell_type": "code",
   "execution_count": null,
   "metadata": {},
   "outputs": [],
   "source": [
    "# Create a new instance of the CustomAzureSearch class\n",
    "search = CustomAzureSearch(AZURE_SEARCH_SERVICE_ENDPOINT,\n",
    "                            AZURE_SEARCH_ADMIN_KEY,\n",
    "                            AZURE_SEARCH_INDEX_NAME,\n",
    "                            NUMBER_OF_RESULTS_TO_RETURN,\n",
    "                            NUMBER_OF_NEAR_NEIGHBORS,\n",
    "                            MODEL_NAME,\n",
    "                            EMBEDDING_FIELD_NAME,\n",
    "                            AZURE_SEARCH_SEMANTIC_CONFIG_NAME)"
   ]
  },
  {
   "cell_type": "code",
   "execution_count": null,
   "metadata": {},
   "outputs": [],
   "source": [
    "print(AZURE_SEARCH_INDEX_NAME)"
   ]
  },
  {
   "cell_type": "code",
   "execution_count": null,
   "metadata": {},
   "outputs": [],
   "source": [
    "search.create_index()"
   ]
  }
 ],
 "metadata": {
  "kernelspec": {
   "display_name": ".venv",
   "language": "python",
   "name": "python3"
  },
  "language_info": {
   "codemirror_mode": {
    "name": "ipython",
    "version": 3
   },
   "file_extension": ".py",
   "mimetype": "text/x-python",
   "name": "python",
   "nbconvert_exporter": "python",
   "pygments_lexer": "ipython3",
   "version": "3.11.6"
  }
 },
 "nbformat": 4,
 "nbformat_minor": 2
}
