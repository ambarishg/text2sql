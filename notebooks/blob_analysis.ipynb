{
 "cells": [
  {
   "cell_type": "code",
   "execution_count": 1,
   "metadata": {},
   "outputs": [],
   "source": [
    "import sys\n",
    "sys.path.append('..')"
   ]
  },
  {
   "cell_type": "code",
   "execution_count": 2,
   "metadata": {},
   "outputs": [
    {
     "name": "stderr",
     "output_type": "stream",
     "text": [
      "c:\\Ambarish\\text2sql\\.venv\\Lib\\site-packages\\sentence_transformers\\cross_encoder\\CrossEncoder.py:11: TqdmWarning: IProgress not found. Please update jupyter and ipywidgets. See https://ipywidgets.readthedocs.io/en/stable/user_install.html\n",
      "  from tqdm.autonotebook import tqdm, trange\n"
     ]
    }
   ],
   "source": [
    "from pathlib import Path\n",
    "\n",
    "from azure_blob.azure_blob_helper import AzureBlobHelper\n",
    "from azure_blob.read_pdf import PDFHelper\n",
    "from config import *\n",
    "from azure_ai_search.azure_ai_vector_search import CustomAzureSearch"
   ]
  },
  {
   "cell_type": "code",
   "execution_count": 3,
   "metadata": {},
   "outputs": [],
   "source": [
    "SAVED_FOLDER = '../saved_files'\n",
    "FILE_NAME = 'CHAP04-BIOLOGY-CLASS11.pdf'"
   ]
  },
  {
   "cell_type": "code",
   "execution_count": 4,
   "metadata": {},
   "outputs": [],
   "source": [
    "search = CustomAzureSearch(AZURE_SEARCH_SERVICE_ENDPOINT,\n",
    "                            AZURE_SEARCH_ADMIN_KEY,\n",
    "                            AZURE_SEARCH_INDEX_NAME,\n",
    "                            NUMBER_OF_RESULTS_TO_RETURN,\n",
    "                            NUMBER_OF_NEAR_NEIGHBORS,\n",
    "                            MODEL_NAME,\n",
    "                            EMBEDDING_FIELD_NAME,\n",
    "                            AZURE_SEARCH_SEMANTIC_CONFIG_NAME)"
   ]
  },
  {
   "cell_type": "code",
   "execution_count": 5,
   "metadata": {},
   "outputs": [],
   "source": [
    "save_path = Path(SAVED_FOLDER, FILE_NAME)\n",
    "azure_blob_helper = AzureBlobHelper(AZ_ST_ACC_NAME, AZ_ST_ACC_KEY, AZ_ST_CONTAINER_NAME)\n",
    "file_name = FILE_NAME\n",
    "full_path = os.path.join(SAVED_FOLDER, FILE_NAME)\n",
    "pdf_helper = PDFHelper(full_path,\n",
    "                        azure_blob_helper)\n",
    "pdf_helper.write_pdf()\n",
    "page_map = pdf_helper.get_document_text(full_path)\n",
    "sections = pdf_helper.create_sections(file_name, page_map)\n",
    "batch = []\n",
    "for section in sections:\n",
    "    section_embeddings = search.get_embedding_query_vector(section['content'])\n",
    "    section[EMBEDDING_FIELD_NAME] = section_embeddings.tolist()\n",
    "    batch.append(section)  \n",
    "search.upload_documents(batch)"
   ]
  }
 ],
 "metadata": {
  "kernelspec": {
   "display_name": ".venv",
   "language": "python",
   "name": "python3"
  },
  "language_info": {
   "codemirror_mode": {
    "name": "ipython",
    "version": 3
   },
   "file_extension": ".py",
   "mimetype": "text/x-python",
   "name": "python",
   "nbconvert_exporter": "python",
   "pygments_lexer": "ipython3",
   "version": "3.11.6"
  }
 },
 "nbformat": 4,
 "nbformat_minor": 2
}
