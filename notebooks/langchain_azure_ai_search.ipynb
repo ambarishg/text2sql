{
 "cells": [
  {
   "cell_type": "code",
   "execution_count": 44,
   "metadata": {},
   "outputs": [],
   "source": [
    "import os\n",
    "\n",
    "from langchain_community.retrievers import (\n",
    "    AzureAISearchRetriever,\n",
    ")\n",
    "\n",
    "from config_notebooks import *"
   ]
  },
  {
   "cell_type": "code",
   "execution_count": 45,
   "metadata": {},
   "outputs": [],
   "source": [
    "os.environ[\"AZURE_AI_SEARCH_SERVICE_NAME\"] = AZURE_SEARCH_SERVICE_ENDPOINT\n",
    "os.environ[\"AZURE_AI_SEARCH_INDEX_NAME\"] = AZURE_SEARCH_INDEX_NAME\n",
    "os.environ[\"AZURE_AI_SEARCH_API_KEY\"] = AZURE_SEARCH_ADMIN_KEY"
   ]
  },
  {
   "cell_type": "code",
   "execution_count": 46,
   "metadata": {},
   "outputs": [],
   "source": [
    "retriever = AzureAISearchRetriever(\n",
    "    content_key=\"content\", top_k=4, index_name=AZURE_SEARCH_INDEX_NAME,\n",
    "    filter=\"sourcepage eq 'GEOG_CLASS11.pdf'\"\n",
    ")\n",
    "\n",
    "retriever = AzureAISearchRetriever(\n",
    "    content_key=\"content\", top_k=4, index_name=AZURE_SEARCH_INDEX_NAME,\n",
    "    filter=\"sourcepage eq 'CHAP19-BIOLOGY-CLASS11.pdf'\"\n",
    ")\n"
   ]
  },
  {
   "cell_type": "code",
   "execution_count": 47,
   "metadata": {},
   "outputs": [],
   "source": [
    "QUERY = \"What is typhi?\""
   ]
  },
  {
   "cell_type": "code",
   "execution_count": 48,
   "metadata": {},
   "outputs": [],
   "source": [
    "results = retriever.invoke(QUERY)"
   ]
  },
  {
   "cell_type": "code",
   "execution_count": 49,
   "metadata": {},
   "outputs": [],
   "source": [
    "from pprint import pprint\n",
    "\n",
    "for result in results:\n",
    "    pprint(result.metadata[\"sourcefile\"] + \" : \" + str(result.metadata[\"@search.score\"]))\n",
    "    "
   ]
  },
  {
   "cell_type": "code",
   "execution_count": 50,
   "metadata": {},
   "outputs": [
    {
     "data": {
      "text/plain": [
       "0"
      ]
     },
     "execution_count": 50,
     "metadata": {},
     "output_type": "execute_result"
    }
   ],
   "source": [
    "len(results)"
   ]
  }
 ],
 "metadata": {
  "kernelspec": {
   "display_name": ".venv",
   "language": "python",
   "name": "python3"
  },
  "language_info": {
   "codemirror_mode": {
    "name": "ipython",
    "version": 3
   },
   "file_extension": ".py",
   "mimetype": "text/x-python",
   "name": "python",
   "nbconvert_exporter": "python",
   "pygments_lexer": "ipython3",
   "version": "3.11.6"
  }
 },
 "nbformat": 4,
 "nbformat_minor": 2
}
