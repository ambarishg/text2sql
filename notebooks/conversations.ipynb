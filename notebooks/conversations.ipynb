{
 "cells": [
  {
   "cell_type": "code",
   "execution_count": null,
   "metadata": {},
   "outputs": [],
   "source": [
    "from config_notebooks import *\n",
    "import sys\n",
    "sys.path.append('../')\n",
    "import uuid"
   ]
  },
  {
   "cell_type": "code",
   "execution_count": null,
   "metadata": {},
   "outputs": [],
   "source": [
    "from cosmos.cosmosdbmanager import CosmosDBManager\n",
    "\n",
    "# Create a CosmosDBManager object\n",
    "cosmosdb_helper = CosmosDBManager(COSMOSDB_ENDPOINT,    \n",
    "                                    COSMOSDB_KEY, \n",
    "                                    COSMOSDB_DATABASE_NAME, \n",
    "                                    COSMOSDB_CONTAINER_NAME_CONVERSATIONS_HEADER)\n",
    "\n",
    "# Create a new container\n",
    "cosmosdb_helper.get_or_create_container(COSMOSDB_CONTAINER_NAME_CONVERSATIONS_HEADER, \n",
    "                                        partition_key_path='/conversation_id',)"
   ]
  },
  {
   "cell_type": "code",
   "execution_count": null,
   "metadata": {},
   "outputs": [],
   "source": [
    "cosmosdb_helper.create_item(\n",
    "    {\n",
    "        \"conversation_id\": \"1\",\n",
    "        \"short_name\": \"conversation1\",\n",
    "        \"id\": str(uuid.uuid4())\n",
    "    }\n",
    ")\n",
    "cosmosdb_helper.create_item(\n",
    "    {\n",
    "        \"conversation_id\": \"2\",\n",
    "        \"short_name\": \"conversation2\",\n",
    "        \"id\": str(uuid.uuid4())\n",
    "    }\n",
    ")"
   ]
  }
 ],
 "metadata": {
  "kernelspec": {
   "display_name": ".venv",
   "language": "python",
   "name": "python3"
  },
  "language_info": {
   "codemirror_mode": {
    "name": "ipython",
    "version": 3
   },
   "file_extension": ".py",
   "mimetype": "text/x-python",
   "name": "python",
   "nbconvert_exporter": "python",
   "pygments_lexer": "ipython3",
   "version": "3.11.6"
  }
 },
 "nbformat": 4,
 "nbformat_minor": 2
}
