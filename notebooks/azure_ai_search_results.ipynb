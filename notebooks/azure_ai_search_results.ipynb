{
 "cells": [
  {
   "cell_type": "code",
   "execution_count": 14,
   "metadata": {},
   "outputs": [],
   "source": [
    "import sys\n",
    "sys.path.append('..')\n",
    "\n",
    "#ignore warnings\n",
    "import warnings\n",
    "warnings.filterwarnings(\"ignore\")"
   ]
  },
  {
   "cell_type": "code",
   "execution_count": 15,
   "metadata": {},
   "outputs": [],
   "source": [
    "from azure_ai_search.azure_ai_vector_search import CustomAzureSearch\n",
    "from config import *\n",
    "from pprint import pprint"
   ]
  },
  {
   "cell_type": "code",
   "execution_count": 16,
   "metadata": {},
   "outputs": [],
   "source": [
    "search = CustomAzureSearch(AZURE_SEARCH_SERVICE_ENDPOINT,\n",
    "                            AZURE_SEARCH_ADMIN_KEY,\n",
    "                            AZURE_SEARCH_INDEX_NAME,\n",
    "                            NUMBER_OF_RESULTS_TO_RETURN,\n",
    "                            NUMBER_OF_NEAR_NEIGHBORS,\n",
    "                            MODEL_NAME,\n",
    "                            EMBEDDING_FIELD_NAME,\n",
    "                            AZURE_SEARCH_SEMANTIC_CONFIG_NAME)"
   ]
  },
  {
   "cell_type": "code",
   "execution_count": 17,
   "metadata": {},
   "outputs": [],
   "source": [
    "query = \"What is segmentation?\""
   ]
  },
  {
   "cell_type": "code",
   "execution_count": 18,
   "metadata": {},
   "outputs": [],
   "source": [
    "results,  source_filename , source_page = search.get_results_semantic_search(query)"
   ]
  },
  {
   "cell_type": "code",
   "execution_count": 19,
   "metadata": {},
   "outputs": [
    {
     "name": "stdout",
     "output_type": "stream",
     "text": [
      "(' In\\n'\n",
      " 'some animals, the body cavity is not lined by\\n'\n",
      " 'mesoderm, instead, the mesoderm is present as\\n'\n",
      " 'scattered pouches in between the ectoderm and\\n'\n",
      " 'endoderm. Such a body cavity is called\\n'\n",
      " 'pseudocoelom and the animals possessing them\\n'\n",
      " 'are called pseudocoelomates,  e.g.,\\n'\n",
      " 'aschelminthes (Figure 4.3b). The animals in\\n'\n",
      " 'which the body cavity is absent are called\\n'\n",
      " 'acoelomates,  e.g., platyhelminthes (Figure 4.3c).Figure 4.3 Diagrammatic '\n",
      " 'sectional view of :\\n'\n",
      " '(a) Coelomate (b) Pseudocoelomate\\n'\n",
      " '(c) AcoelomateThose animals in which the developing embryo has a thir d '\n",
      " 'germinal layer ,\\n'\n",
      " 'mesoderm , in between the ectoderm and endoderm, are called\\n'\n",
      " 'triploblastic  animals (platyhelminthes to chordates, Figure 4.2b).\\n'\n",
      " '4.1.5 Segmentation\\n'\n",
      " 'In some animals, the body is externally and internally divided into\\n'\n",
      " 'segments with a serial repetition of at least some organs. For example, in\\n'\n",
      " 'earthworm, the body shows this pattern called metameric segmentation\\n'\n",
      " 'and the phenomenon is known as metamerism .\\n'\n",
      " '4.1.6 Notochord\\n'\n",
      " 'Notochord is a mesodermally derived rod-like structure formed on the\\n'\n",
      " 'dorsal side during embryonic development in some animals.')\n",
      "\n",
      "\n",
      "('Segmentation in the body is first observed in which of the following:\\n'\n",
      " '(a) Platyhelminthes  (b) Aschelminthes  (c) Annelida  (d) Arthropoda\\n'\n",
      " 'Rationalised 2023-24\\n'\n",
      " '54 BIOLOGY\\n'\n",
      " '14.Match the following:\\n'\n",
      " '(a)Operculum (i)Ctenophora\\n'\n",
      " '(b)Parapodia (ii)Mollusca\\n'\n",
      " '(c)Scales (iii)Porifera\\n'\n",
      " '(d)Comb plates (iv)Reptilia\\n'\n",
      " '(e)Radula (v)Annelida\\n'\n",
      " '(f)Hairs (vi)Cyclostomata and Chondrichthyes\\n'\n",
      " '(g)Choanocytes (vii) Mammalia\\n'\n",
      " '(h)Gill slits (viii) Osteichthyes\\n'\n",
      " '15.Prepare a list of some animals that are found parasitic on human\\n'\n",
      " 'beings.\\n'\n",
      " 'Rationalised 2023-24\\n')\n",
      "\n",
      "\n",
      "('\\n'\n",
      " '3.How useful is the study of the nature of body cavity and coelom in the\\n'\n",
      " 'classification of animals?\\n'\n",
      " '4.Distinguish between intracellular and extracellular digestion?\\n'\n",
      " '5.What is the difference between direct and indirect development?\\n'\n",
      " '6.What are the peculiar features that you find in parasitic\\n'\n",
      " 'platyhelminthes?\\n'\n",
      " '7.What are the reasons that you can think of for the arthropods to\\n'\n",
      " 'constitute the largest group of the animal kingdom?\\n'\n",
      " '8.Water vascular system is the characteristic of which gr oup of the\\n'\n",
      " 'following:\\n'\n",
      " '(a) Porifera  (b) Ctenophora  (c) Echinodermata  (d) Chordata\\n'\n",
      " '9.“All vertebrates are chordates but all chordates are not vertebrates”.\\n'\n",
      " 'Justify the statement.\\n'\n",
      " '10.How important is the presence of air bladder in Pisces?\\n'\n",
      " '11.What are the modifications that are observed in birds that help them\\n'\n",
      " 'fly?\\n'\n",
      " '12.Could the number of eggs or young ones produced by an oviparous and\\n'\n",
      " 'viviparous mother be equal? Why?\\n'\n",
      " '13.Segmentation in the body is first observed in which of the following:\\n'\n",
      " '(a) Platyhelminthes  (b) Aschelminthes  (c) Annelida  (d) Arthropoda\\n'\n",
      " 'Rationalised 2023-24\\n'\n",
      " '54 BIOLOGY\\n'\n",
      " '14.')\n",
      "\n",
      "\n",
      "('System\\n'\n",
      " 'Absent\\n'\n",
      " 'Absent\\n'\n",
      " 'Absent\\n'\n",
      " 'Absent\\n'\n",
      " 'Absent\\n'\n",
      " 'Present\\n'\n",
      " 'Present\\n'\n",
      " 'Present\\n'\n",
      " 'Present\\n'\n",
      " 'Present\\n'\n",
      " 'PresentRespi-\\n'\n",
      " 'ratory\\n'\n",
      " 'System\\n'\n",
      " 'Absent\\n'\n",
      " 'Absent\\n'\n",
      " 'Absent\\n'\n",
      " 'Absent\\n'\n",
      " 'Absent\\n'\n",
      " 'Absent\\n'\n",
      " 'Present\\n'\n",
      " 'Present\\n'\n",
      " 'Present\\n'\n",
      " 'Present\\n'\n",
      " 'PresentDistinctive\\n'\n",
      " 'Features\\n'\n",
      " 'Body with pores\\n'\n",
      " 'and canals in  walls.\\n'\n",
      " 'Cnidoblasts\\n'\n",
      " 'present.\\n'\n",
      " 'Comb plates for\\n'\n",
      " 'locomotion.\\n'\n",
      " 'Flat body, suckers.\\n'\n",
      " 'Often worm-\\n'\n",
      " 'shaped,\\n'\n",
      " 'elongated.\\n'\n",
      " 'Body segment-\\n'\n",
      " 'ation like rings.\\n'\n",
      " 'Exoskeleton of cu-\\n'\n",
      " 'ticle, jointed ap-\\n'\n",
      " 'pendages.\\n'\n",
      " 'External skeleton\\n'\n",
      " 'of  shell usually\\n'\n",
      " 'present.\\n'\n",
      " 'Water vascular\\n'\n",
      " 'system, radial\\n'\n",
      " 'symmetry.\\n'\n",
      " 'Worm-like with\\n'\n",
      " 'proboscis, collar\\n'\n",
      " 'and trunk.\\n'\n",
      " 'Notochord, dorsal\\n'\n",
      " 'hollow nerve cord,\\n'\n",
      " 'gill slits with\\n'\n",
      " 'limbs or fins.Phylum\\n'\n",
      " 'Porifera\\n'\n",
      " 'Coelenterata\\n'\n",
      " '(Cnidaria)\\n'\n",
      " 'Ctenophora\\n'\n",
      " 'Platyhelm-\\n'\n",
      " 'inthes\\n'\n",
      " 'Aschelmin-\\n'\n",
      " 'thes\\n'\n",
      " 'Annelida\\n'\n",
      " 'Arthropoda\\n'\n",
      " 'Mollusca\\n'\n",
      " 'Echino-\\n'\n",
      " 'dermata\\n'\n",
      " 'Hemi-\\n'\n",
      " 'chordata\\n'\n",
      " 'ChordataTABLE 4.2  Salient Features of Different Phyla in the Animal '\n",
      " 'Kingdom\\n'\n",
      " 'Rationalised 2023-24\\n'\n",
      " '52 BIOLOGY\\n'\n",
      " 'SUMMARY\\n'\n",
      " 'The basic fundamental features such as level of organisation, symmetry,\\n'\n",
      " 'cell organisation, coelom, segmentation, notochord, etc., have enabled us\\n'\n",
      " 'to broadly classify the animal kingdom. Besides the fundamental features,\\n'\n",
      " 'there are many other distinctive characters which are specific for each\\n'\n",
      " 'phyla or class.')\n",
      "\n",
      "\n"
     ]
    }
   ],
   "source": [
    "for result in results:\n",
    "    pprint(result)\n",
    "    print(\"\\n\")\n",
    "    "
   ]
  },
  {
   "cell_type": "code",
   "execution_count": 20,
   "metadata": {},
   "outputs": [
    {
     "name": "stdout",
     "output_type": "stream",
     "text": [
      "CHAP04-BIOLOGY-CLASS11.pdf\n",
      "\n",
      "\n",
      "CHAP04-BIOLOGY-CLASS11.pdf\n",
      "\n",
      "\n",
      "CHAP04-BIOLOGY-CLASS11.pdf\n",
      "\n",
      "\n",
      "CHAP04-BIOLOGY-CLASS11.pdf\n",
      "\n",
      "\n"
     ]
    }
   ],
   "source": [
    "for filename in source_filename:\n",
    "    print(filename)\n",
    "    print(\"\\n\")"
   ]
  },
  {
   "cell_type": "code",
   "execution_count": 21,
   "metadata": {},
   "outputs": [
    {
     "name": "stdout",
     "output_type": "stream",
     "text": [
      "CHAP04-BIOLOGY-CLASS11-2.pdf\n",
      "\n",
      "\n",
      "CHAP04-BIOLOGY-CLASS11-16.pdf\n",
      "\n",
      "\n",
      "CHAP04-BIOLOGY-CLASS11-16.pdf\n",
      "\n",
      "\n",
      "CHAP04-BIOLOGY-CLASS11-14.pdf\n",
      "\n",
      "\n"
     ]
    }
   ],
   "source": [
    "for filename in source_page:\n",
    "    print(filename)\n",
    "    print(\"\\n\")"
   ]
  },
  {
   "cell_type": "code",
   "execution_count": null,
   "metadata": {},
   "outputs": [],
   "source": []
  }
 ],
 "metadata": {
  "kernelspec": {
   "display_name": ".venv",
   "language": "python",
   "name": "python3"
  },
  "language_info": {
   "codemirror_mode": {
    "name": "ipython",
    "version": 3
   },
   "file_extension": ".py",
   "mimetype": "text/x-python",
   "name": "python",
   "nbconvert_exporter": "python",
   "pygments_lexer": "ipython3",
   "version": "3.11.6"
  }
 },
 "nbformat": 4,
 "nbformat_minor": 2
}
