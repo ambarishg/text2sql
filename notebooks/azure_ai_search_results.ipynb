{
 "cells": [
  {
   "cell_type": "code",
   "execution_count": 3,
   "metadata": {},
   "outputs": [],
   "source": [
    "import sys\n",
    "sys.path.append('..')\n",
    "\n",
    "#ignore warnings\n",
    "import warnings\n",
    "warnings.filterwarnings(\"ignore\")"
   ]
  },
  {
   "cell_type": "code",
   "execution_count": 4,
   "metadata": {},
   "outputs": [],
   "source": [
    "from azure_ai_search.azure_ai_vector_search import CustomAzureSearch\n",
    "from config_notebooks import *\n",
    "from pprint import pprint\n",
    "from azureopenaimanager.azureopenai_helper import *"
   ]
  },
  {
   "cell_type": "code",
   "execution_count": 5,
   "metadata": {},
   "outputs": [],
   "source": [
    "search = CustomAzureSearch(AZURE_SEARCH_SERVICE_ENDPOINT,\n",
    "                            AZURE_SEARCH_ADMIN_KEY,\n",
    "                            AZURE_SEARCH_INDEX_NAME,\n",
    "                            NUMBER_OF_RESULTS_TO_RETURN,\n",
    "                            NUMBER_OF_NEAR_NEIGHBORS,\n",
    "                            MODEL_NAME,\n",
    "                            EMBEDDING_FIELD_NAME,\n",
    "                            AZURE_SEARCH_SEMANTIC_CONFIG_NAME)\n",
    "\n",
    "azure_open_ai_manager = AzureOpenAIManager(\n",
    "                    endpoint=AZURE_OPENAI_ENDPOINT,\n",
    "                    api_key=AZURE_OPENAI_KEY,\n",
    "                    deployment_id=AZURE_OPENAI_DEPLOYMENT_ID,\n",
    "                    api_version=\"2023-05-15\"\n",
    "                )"
   ]
  },
  {
   "cell_type": "code",
   "execution_count": 6,
   "metadata": {},
   "outputs": [],
   "source": [
    "def get_reply(user_input, content):\n",
    "    conversation=[{\"role\": \"system\", \"content\": \"Assistant is a great language model formed by OpenAI.\"}]\n",
    "    reply = azure_open_ai_manager.generate_reply_from_context(user_input, content, conversation)\n",
    "    return reply"
   ]
  },
  {
   "cell_type": "code",
   "execution_count": 7,
   "metadata": {},
   "outputs": [],
   "source": [
    "query = \"What is segmentation?\"\n",
    "query = \" Salmonella typhi ?\""
   ]
  },
  {
   "cell_type": "code",
   "execution_count": 8,
   "metadata": {},
   "outputs": [
    {
     "name": "stdout",
     "output_type": "stream",
     "text": [
      "('Salmonella typhi is a pathogenic bacterium that causes typhoid fever in '\n",
      " 'humans. This bacterium typically enters the small intestine through '\n",
      " 'contaminated food and water and then spreads to other organs through the '\n",
      " 'bloodstream. Typhoid fever is characterized by sustained high fever, '\n",
      " 'weakness, stomach pain, constipation, headache, and loss of appetite. In '\n",
      " 'severe cases, intestinal perforation and death may occur. The disease can be '\n",
      " 'confirmed through a Widal test. Preventive measures against typhoid fever '\n",
      " 'include practicing good hygiene, ensuring food and water safety, and '\n",
      " 'vaccination with the typhoid vaccine.')\n"
     ]
    }
   ],
   "source": [
    "results,  source_filename , source_page = search.get_results_semantic_search(query)\n",
    "context = \"\\n\".join(results)\n",
    "reply = get_reply(query, context)\n",
    "pprint(reply[0])"
   ]
  },
  {
   "cell_type": "code",
   "execution_count": null,
   "metadata": {},
   "outputs": [],
   "source": []
  }
 ],
 "metadata": {
  "kernelspec": {
   "display_name": ".venv",
   "language": "python",
   "name": "python3"
  },
  "language_info": {
   "codemirror_mode": {
    "name": "ipython",
    "version": 3
   },
   "file_extension": ".py",
   "mimetype": "text/x-python",
   "name": "python",
   "nbconvert_exporter": "python",
   "pygments_lexer": "ipython3",
   "version": "3.11.6"
  }
 },
 "nbformat": 4,
 "nbformat_minor": 2
}
