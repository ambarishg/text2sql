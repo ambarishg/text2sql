{
 "cells": [
  {
   "cell_type": "code",
   "execution_count": 1,
   "metadata": {},
   "outputs": [
    {
     "name": "stderr",
     "output_type": "stream",
     "text": [
      "c:\\Ambarish\\text2sql\\.venv\\Lib\\site-packages\\sentence_transformers\\cross_encoder\\CrossEncoder.py:11: TqdmWarning: IProgress not found. Please update jupyter and ipywidgets. See https://ipywidgets.readthedocs.io/en/stable/user_install.html\n",
      "  from tqdm.autonotebook import tqdm, trange\n"
     ]
    }
   ],
   "source": [
    "import sys\n",
    "sys.path.append('..')\n",
    "from config_notebooks import *\n",
    "from qdrant.qdrant_helper import *\n",
    "from azureopenaimanager.azureopenai_helper import AzureOpenAIManager\n",
    "from azure_blob.azure_blob_helper import AzureBlobHelper\n",
    "from sentence_transformers import CrossEncoder"
   ]
  },
  {
   "cell_type": "code",
   "execution_count": 2,
   "metadata": {},
   "outputs": [],
   "source": [
    "search = QdrantHelper(QDRANT_URL,QDRANT_KEY,MODEL_NAME,QDRANT_COLLECTION,\n",
    "                      qmodels.Distance.COSINE, 384,25)"
   ]
  },
  {
   "cell_type": "code",
   "execution_count": 10,
   "metadata": {},
   "outputs": [],
   "source": [
    "query = \"\"\"\n",
    "stomata \n",
    "\"\"\""
   ]
  },
  {
   "cell_type": "code",
   "execution_count": 11,
   "metadata": {},
   "outputs": [],
   "source": [
    "CATEGORY = \"NCERT-CLASS11\"\n",
    "USER_ID = \"y12ft5bl30ue\""
   ]
  },
  {
   "cell_type": "code",
   "execution_count": 12,
   "metadata": {},
   "outputs": [
    {
     "name": "stdout",
     "output_type": "stream",
     "text": [
      "\n",
      "stomata \n",
      "\n",
      "################################\n",
      "[ 5.00665233e-02  6.25008866e-02 -1.57310843e-01  2.81142853e-02\n",
      " -9.93715152e-02 -1.07159205e-02  8.31121877e-02  7.72103807e-03\n",
      "  4.20955420e-02 -4.62356061e-02 -7.03867711e-03 -5.84046170e-03\n",
      " -4.14371490e-02 -5.00573888e-02 -3.52696925e-02 -1.56877711e-02\n",
      "  2.61332002e-02  3.93955633e-02  3.12556103e-02 -3.63989994e-02\n",
      " -7.33106583e-03  4.73934179e-03 -5.53059019e-03  4.46108133e-02\n",
      "  7.96023197e-03  1.12505928e-01 -3.87314409e-02  2.28370950e-02\n",
      " -3.09674088e-02 -1.14927880e-01 -1.68372039e-02  1.35696474e-02\n",
      "  7.46266842e-02 -1.63810644e-02 -3.66131105e-02  7.72001594e-02\n",
      " -6.96768388e-02 -8.78195688e-02 -2.16445327e-02  9.77210552e-02\n",
      " -3.68086286e-02 -2.70062052e-02 -9.76544246e-03  4.92251813e-02\n",
      " -1.32038698e-01 -8.51807967e-02  1.25046391e-02  6.79176822e-02\n",
      "  1.24001643e-02 -1.87688414e-02 -4.89797890e-02 -1.30609751e-01\n",
      " -8.59092474e-02 -4.63484973e-03 -2.91612055e-02  5.25934040e-04\n",
      " -6.07022569e-02  2.72390395e-02  8.92100018e-03 -8.95813257e-02\n",
      "  7.94876143e-02  1.35271372e-02  2.56657247e-02  1.84643492e-02\n",
      " -7.27995113e-03  5.33840023e-02 -7.87625313e-02 -1.41006047e-02\n",
      "  3.81185971e-02 -9.15983040e-03 -1.79357510e-02  6.40499890e-02\n",
      " -2.94378921e-02  2.84743961e-02 -8.10764059e-02  5.57339098e-03\n",
      "  1.34025458e-02 -5.47692515e-02  7.11522764e-03  5.69651611e-02\n",
      "  4.99434173e-02  5.56138828e-02 -3.49581428e-02  1.87371448e-02\n",
      "  2.26152483e-02  1.21961035e-01 -4.17410880e-02  4.83985953e-02\n",
      "  1.10651711e-02 -2.12337412e-02  8.08853060e-02  4.51563112e-02\n",
      " -3.31793875e-02  3.20523605e-02 -6.62445128e-02 -1.65133458e-02\n",
      "  2.98565384e-02 -6.10037334e-02 -1.73069304e-03  1.26007661e-01\n",
      "  4.63626198e-02  2.26117186e-02  3.13197859e-02  9.27028507e-02\n",
      " -2.76921503e-02 -2.13312414e-02 -1.48380129e-02 -5.37856333e-02\n",
      " -2.28320789e-02 -2.88442951e-02 -8.08278695e-02  3.38665792e-03\n",
      " -8.65161940e-02 -4.72301766e-02 -1.15410974e-02  8.41965005e-02\n",
      "  3.84854004e-02 -3.32179032e-02  4.87033539e-02 -4.95670363e-02\n",
      "  4.04374748e-02 -6.21794024e-03 -3.42819132e-02  9.13923420e-03\n",
      "  6.63129091e-02 -3.42451185e-02 -8.05414245e-02 -4.96806984e-34\n",
      " -3.06337662e-02  4.24944498e-02  1.52086601e-01 -4.69984226e-02\n",
      "  7.76321441e-02 -2.69026048e-02 -2.40319781e-02 -9.19671953e-02\n",
      " -5.11342622e-02  1.49967372e-02 -9.84184965e-02  7.75795896e-03\n",
      " -4.24003452e-02 -8.03478658e-02  1.30496025e-01  1.76330470e-02\n",
      " -1.15690858e-03  4.92502823e-02  2.39809733e-02 -1.15995286e-02\n",
      " -7.00522680e-04  7.58225396e-02 -2.53185797e-02  1.13549344e-02\n",
      " -4.72534597e-02 -2.11820137e-02  7.07810652e-03 -1.73931196e-02\n",
      "  3.33223343e-02  3.58425155e-02  1.21746343e-02  4.72592711e-02\n",
      " -5.73415197e-02  1.94443353e-02 -1.54720163e-02 -5.06431386e-02\n",
      " -7.37696663e-02 -9.62364748e-02  3.66016030e-02  1.38121168e-03\n",
      " -3.43503840e-02  4.95725079e-03  6.81514442e-02  6.19009137e-02\n",
      "  2.55952664e-02 -3.40219550e-02  9.56295244e-03  3.08373626e-02\n",
      "  5.46373464e-02 -3.75281945e-02 -1.01921000e-02  2.48063188e-02\n",
      " -1.43178580e-02  7.34771118e-02 -6.03624731e-02 -3.71419713e-02\n",
      "  1.81342345e-02  2.02734303e-02 -4.30597970e-03  8.02943110e-02\n",
      "  3.18282843e-02 -3.55378501e-02  3.07532679e-02 -1.75030734e-02\n",
      "  2.39341594e-02  2.92493752e-03 -3.31067890e-02  5.73106930e-02\n",
      "  8.92665684e-02 -7.64908362e-03 -4.17840630e-02 -1.42369829e-02\n",
      "  4.56908084e-02  4.51208800e-02  5.03600386e-05  2.42698360e-02\n",
      " -6.40308438e-03  4.79155704e-02  1.76199973e-02  8.49842746e-03\n",
      " -2.83180773e-02 -4.45560366e-02 -5.47207035e-02 -1.05258459e-02\n",
      " -4.68870578e-03  7.12567717e-02 -9.81976651e-03 -6.22712523e-02\n",
      " -7.51211727e-03  9.27753523e-02 -5.85891455e-02  9.10538249e-03\n",
      " -2.00675745e-02 -6.27177432e-02  2.74806600e-02 -7.34789305e-34\n",
      " -3.82760428e-02 -1.02680683e-01 -2.09850054e-02  7.60672241e-02\n",
      "  5.06632961e-02 -1.83218606e-02  3.25314794e-03  4.04098667e-02\n",
      " -2.11096369e-02  6.04665503e-02  6.00102432e-02 -3.13310213e-02\n",
      "  5.59148332e-03 -4.09705713e-02  1.24006923e-02  8.37754905e-02\n",
      "  3.62702832e-02  4.73677367e-02 -4.45626192e-02 -4.55545411e-02\n",
      " -2.53461152e-02  6.37181327e-02 -3.16556692e-02  7.04578636e-03\n",
      " -5.28958347e-03 -1.38449958e-02  5.03071286e-02 -6.17050491e-02\n",
      " -7.10205734e-02 -3.01381722e-02  1.66785698e-02 -9.85520780e-02\n",
      " -4.35603373e-02  5.35744913e-02 -5.87127544e-02 -3.32661122e-02\n",
      " -4.68746386e-03  1.26776109e-02  6.12333827e-02 -3.64000537e-02\n",
      "  1.03937529e-01 -4.85236719e-02  3.12018096e-02  1.04896672e-01\n",
      "  4.93236892e-02  3.79149690e-02 -1.04394503e-01  8.95171687e-02\n",
      "  3.99089381e-02  2.80122571e-02 -4.05877307e-02  6.40476644e-02\n",
      " -1.47108482e-02  1.43706733e-02  9.11963806e-02 -1.81504171e-02\n",
      " -3.42906034e-03 -5.25874533e-02 -8.54196474e-02  4.55542356e-02\n",
      "  1.88999902e-02  1.85409207e-02 -8.58346596e-02  2.46207602e-02\n",
      "  1.41931072e-01 -9.16180685e-02 -5.57644069e-02  6.90861838e-03\n",
      "  2.77750995e-02  4.05080393e-02  5.89032471e-02 -1.05345175e-02\n",
      " -1.15123682e-01  2.84591597e-02 -1.58242658e-02 -1.14155170e-02\n",
      " -7.40279555e-02  3.13109942e-02  3.79890017e-03 -2.57458743e-02\n",
      " -1.51539426e-02 -5.41671328e-02  8.16886127e-02  4.22210293e-03\n",
      "  5.96687868e-02  2.87026577e-02  8.15926865e-02 -2.32311171e-02\n",
      " -1.55170988e-02  7.83844814e-02  1.69348884e-02  2.67386343e-02\n",
      " -3.01643293e-02  3.90683068e-03  1.04525285e-02 -1.32847573e-08\n",
      " -5.75999264e-03  2.25677788e-02 -3.50377709e-02 -4.71282005e-02\n",
      "  5.51173612e-02 -3.01627945e-02 -1.56514514e-02  1.72305778e-02\n",
      "  1.32555030e-02  1.75754502e-02 -7.29595944e-02 -4.31137495e-02\n",
      "  1.01227142e-01 -2.30285246e-03 -6.52245805e-02 -2.31772605e-02\n",
      "  3.23606059e-02 -6.22837292e-03  1.42398868e-02 -8.87745917e-02\n",
      " -5.12471981e-02 -2.06708871e-02 -9.74248536e-03  1.14605865e-02\n",
      " -3.84689905e-02  2.58559678e-02  4.85299863e-02  1.53326452e-01\n",
      "  9.83526483e-02  3.43823619e-02  2.87574288e-02 -2.95390654e-02\n",
      "  1.80492513e-02 -5.22799268e-02 -1.47165302e-02  4.42535952e-02\n",
      "  1.18617601e-04 -3.35699804e-02  1.84288975e-02 -6.55969903e-02\n",
      "  6.55980920e-03 -2.92538069e-02  1.00302190e-01  1.21816723e-02\n",
      " -7.68399313e-02  4.23735194e-02  3.99136590e-03 -3.53429019e-02\n",
      "  2.07247343e-02 -5.77621348e-02  9.33611766e-03 -1.78416900e-03\n",
      " -3.18510681e-02  9.49082077e-02  4.91746850e-02  4.81439242e-03\n",
      "  2.01549158e-02  5.36764488e-02 -7.18548968e-02  2.52894275e-02\n",
      "  6.78927824e-02 -4.17611860e-02  4.11121361e-02  1.38170775e-02]\n",
      "################################\n",
      "category = NCERT-CLASS11\n",
      "user_id = y12ft5bl30ue\n",
      "0.4620878\n",
      "0.28214127\n",
      "0.25324166\n",
      "0.21524635\n",
      "0.1423265\n",
      "0.10409116\n",
      "0.10385208\n",
      "0.10208693\n",
      "0.09643023\n",
      "0.09277862\n",
      "0.09021467\n",
      "0.07435796\n",
      "0.056393135\n",
      "0.048121154\n"
     ]
    }
   ],
   "source": [
    "results_to_return, \\\n",
    "metadata_source_filename_to_return, \\\n",
    "metadata_source_page_to_return, \\\n",
    "reranker_score_to_return = search.get_search_results(user_input=query,\n",
    "                                                     CATEGORY=CATEGORY,\n",
    "                                                     user_id=USER_ID,\n",
    "                                                     )"
   ]
  },
  {
   "cell_type": "code",
   "execution_count": 13,
   "metadata": {},
   "outputs": [
    {
     "data": {
      "text/plain": [
       "['CHAP06-BIOLOGY-CLASS11.pdf']"
      ]
     },
     "execution_count": 13,
     "metadata": {},
     "output_type": "execute_result"
    }
   ],
   "source": [
    "metadata_source_filename_to_return"
   ]
  },
  {
   "cell_type": "code",
   "execution_count": 14,
   "metadata": {},
   "outputs": [
    {
     "data": {
      "text/plain": [
       "['CHAP06-BIOLOGY-CLASS11-1.pdf']"
      ]
     },
     "execution_count": 14,
     "metadata": {},
     "output_type": "execute_result"
    }
   ],
   "source": [
    "metadata_source_page_to_return"
   ]
  },
  {
   "cell_type": "code",
   "execution_count": 15,
   "metadata": {},
   "outputs": [
    {
     "data": {
      "text/plain": [
       "[]"
      ]
     },
     "execution_count": 15,
     "metadata": {},
     "output_type": "execute_result"
    }
   ],
   "source": [
    "reranker_score_to_return"
   ]
  },
  {
   "cell_type": "code",
   "execution_count": 16,
   "metadata": {},
   "outputs": [
    {
     "data": {
      "text/plain": [
       "' The outside of the\\nepidermis is often covered with a waxy thick layer called the cuticle  which\\nprevents the loss of water . Cuticle is absent in r oots. Stomata  are structur es\\npresent in the epidermis of leaves. Stomata regulate the process of\\ntranspiration and gaseous exchange. Each stoma is composed of two bean-\\nshaped cells known as guard cells  which enclose stomatal pore. In\\ngrasses, the guard cells are dumb-bell shaped. The outer walls of guard\\ncells (away from the stomatal pore) are thin and the inner walls (towards\\nthe stomatal pore) are highly thickened. The guard cells possess chloroplasts\\nand regulate the opening and closing of stomata. Sometimes, a few epidermal\\ncells, in the vicinity of the guard cells become specialised in their shape and\\nsize and are known as subsidiary cells . The stomatal aperture, guard\\ncells and the surrounding subsidiary cells are together called stomatal\\napparatus (Figure 6. 1).\\nFigure 6.1 Diagrammatic representation: (a) stomata with bean-shaped guard cells\\n(b) stomata with dumb-bell shaped guard cellEpidermal cells\\nSubsidiary cells\\nGuard cells\\nStomatal\\nporeChloroplast\\n2024-25\\nANATOMY  OF '"
      ]
     },
     "execution_count": 16,
     "metadata": {},
     "output_type": "execute_result"
    }
   ],
   "source": [
    "results_to_return[0]"
   ]
  },
  {
   "cell_type": "code",
   "execution_count": 17,
   "metadata": {},
   "outputs": [
    {
     "name": "stderr",
     "output_type": "stream",
     "text": [
      "c:\\Ambarish\\text2sql\\.venv\\Lib\\site-packages\\huggingface_hub\\file_download.py:157: UserWarning: `huggingface_hub` cache-system uses symlinks by default to efficiently store duplicated files but your machine does not support them in C:\\Users\\Ambarish Ganguly\\.cache\\huggingface\\hub\\models--cross-encoder--ms-marco-MiniLM-L-6-v2. Caching files will still work but in a degraded version that might require more space on your disk. This warning can be disabled by setting the `HF_HUB_DISABLE_SYMLINKS_WARNING` environment variable. For more details, see https://huggingface.co/docs/huggingface_hub/how-to-cache#limitations.\n",
      "To support symlinks on Windows, you either need to activate Developer Mode or to run Python as an administrator. In order to see activate developer mode, see this article: https://docs.microsoft.com/en-us/windows/apps/get-started/enable-your-device-for-development\n",
      "  warnings.warn(message)\n"
     ]
    }
   ],
   "source": [
    "#We use a cross-encoder, to re-rank the results list to improve the quality\n",
    "cross_encoder = CrossEncoder('cross-encoder/ms-marco-MiniLM-L-6-v2')"
   ]
  },
  {
   "cell_type": "code",
   "execution_count": 19,
   "metadata": {},
   "outputs": [
    {
     "name": "stdout",
     "output_type": "stream",
     "text": [
      " The outside of the\n",
      "epidermis is often covered with a waxy thick layer called the cuticle  which\n",
      "prevents the loss of water . Cuticle is absent in r oots. Stomata  are structur es\n",
      "present in the epidermis of leaves. Stomata regulate the process of\n",
      "transpiration and gaseous exchange. Each stoma is composed of two bean-\n",
      "shaped cells known as guard cells  which enclose stomatal pore. In\n",
      "grasses, the guard cells are dumb-bell shaped. The outer walls of guard\n",
      "cells (away from the stomatal pore) are thin and the inner walls (towards\n",
      "the stomatal pore) are highly thickened. The guard cells possess chloroplasts\n",
      "and regulate the opening and closing of stomata. Sometimes, a few epidermal\n",
      "cells, in the vicinity of the guard cells become specialised in their shape and\n",
      "size and are known as subsidiary cells . The stomatal aperture, guard\n",
      "cells and the surrounding subsidiary cells are together called stomatal\n",
      "apparatus (Figure 6. 1).\n",
      "Figure 6.1 Diagrammatic representation: (a) stomata with bean-shaped guard cells\n",
      "(b) stomata with dumb-bell shaped guard cellEpidermal cells\n",
      "Subsidiary cells\n",
      "Guard cells\n",
      "Stomatal\n",
      "poreChloroplast\n",
      "2024-25\n",
      "ANATOMY  OF \n"
     ]
    }
   ],
   "source": [
    "for i in range(len(results_to_return)):\n",
    "               print(results_to_return[i])"
   ]
  },
  {
   "cell_type": "code",
   "execution_count": 20,
   "metadata": {},
   "outputs": [],
   "source": [
    "# Now, score all retrieved passages with the cross_encoder\n",
    "cross_inp = [[query, results_to_return[i]] for i in range(len(results_to_return))]\n",
    "cross_scores = cross_encoder.predict(cross_inp)"
   ]
  },
  {
   "cell_type": "code",
   "execution_count": 21,
   "metadata": {},
   "outputs": [
    {
     "data": {
      "text/plain": [
       "array([6.3924537], dtype=float32)"
      ]
     },
     "execution_count": 21,
     "metadata": {},
     "output_type": "execute_result"
    }
   ],
   "source": [
    "cross_scores"
   ]
  },
  {
   "cell_type": "code",
   "execution_count": null,
   "metadata": {},
   "outputs": [],
   "source": [
    "def get_reply(user_input, content):\n",
    "\n",
    "    azure_open_ai_manager = AzureOpenAIManager(\n",
    "                    endpoint=AZURE_OPENAI_ENDPOINT,\n",
    "                    api_key=AZURE_OPENAI_KEY,\n",
    "                    deployment_id=AZURE_OPENAI_DEPLOYMENT_ID,\n",
    "                    api_version=\"2023-05-15\"\n",
    "                )\n",
    "    \n",
    "    conversation=[{\"role\": \"system\", \"content\": \"If the answer is not found within the context, please mention \\\n",
    "        that the answer is not found \\\n",
    "        Do not answer anything which is not in the context\"}]\n",
    "    reply = azure_open_ai_manager.generate_reply_from_context(user_input, content, conversation)\n",
    "    return reply"
   ]
  },
  {
   "cell_type": "code",
   "execution_count": null,
   "metadata": {},
   "outputs": [],
   "source": [
    "azure_blob_helper = AzureBlobHelper(AZ_ST_ACC_NAME,\n",
    "                                    AZ_ST_ACC_KEY,\n",
    "                                    AZ_ST_CONTAINER_NAME)"
   ]
  },
  {
   "cell_type": "code",
   "execution_count": null,
   "metadata": {},
   "outputs": [],
   "source": [
    "context = \"\\n\".join(results_to_return)\n",
    "reply = get_reply(query, context)\n",
    "\n",
    "URLs = []\n",
    "\n",
    "reranker_confidence = \"\"\n",
    "\n",
    "for page in metadata_source_page_to_return:\n",
    "    URLs.append(azure_blob_helper.generate_sas_url(page))\n"
   ]
  },
  {
   "cell_type": "code",
   "execution_count": null,
   "metadata": {},
   "outputs": [],
   "source": [
    "reply"
   ]
  },
  {
   "cell_type": "code",
   "execution_count": null,
   "metadata": {},
   "outputs": [],
   "source": []
  }
 ],
 "metadata": {
  "kernelspec": {
   "display_name": ".venv",
   "language": "python",
   "name": "python3"
  },
  "language_info": {
   "codemirror_mode": {
    "name": "ipython",
    "version": 3
   },
   "file_extension": ".py",
   "mimetype": "text/x-python",
   "name": "python",
   "nbconvert_exporter": "python",
   "pygments_lexer": "ipython3",
   "version": "3.11.6"
  }
 },
 "nbformat": 4,
 "nbformat_minor": 2
}
